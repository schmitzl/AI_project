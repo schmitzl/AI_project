{
 "metadata": {
  "name": "",
  "signature": "sha256:aca79ac1d30b6955c0426e484ed72fcf5267b9bec945c33a4a198b6bd9f25dd6"
 },
 "nbformat": 3,
 "nbformat_minor": 0,
 "worksheets": [
  {
   "cells": [
    {
     "cell_type": "code",
     "collapsed": false,
     "input": [
      "%load_ext watermark"
     ],
     "language": "python",
     "metadata": {},
     "outputs": [],
     "prompt_number": 1
    },
    {
     "cell_type": "code",
     "collapsed": false,
     "input": [
      "%watermark -a 'Sebastian Raschka' -d -v"
     ],
     "language": "python",
     "metadata": {},
     "outputs": [
      {
       "output_type": "stream",
       "stream": "stdout",
       "text": [
        "Sebastian Raschka 07/12/2014 \n",
        "\n",
        "CPython 3.4.2\n",
        "IPython 2.3.0\n"
       ]
      }
     ],
     "prompt_number": 2
    },
    {
     "cell_type": "markdown",
     "metadata": {},
     "source": [
      "<br>\n",
      "<br>"
     ]
    },
    {
     "cell_type": "heading",
     "level": 2,
     "metadata": {},
     "source": [
      "Redownloading the lyrics"
     ]
    },
    {
     "cell_type": "markdown",
     "metadata": {},
     "source": [
      "The lyrics have been removed from the datasets in the public GitHub repository for copyright reasons. But you can follow the steps in this IPython notebook to re-download the lyrics."
     ]
    },
    {
     "cell_type": "markdown",
     "metadata": {},
     "source": [
      "<br>\n",
      "<br>"
     ]
    },
    {
     "cell_type": "heading",
     "level": 3,
     "metadata": {},
     "source": [
      "Load the CSV file"
     ]
    },
    {
     "cell_type": "code",
     "collapsed": false,
     "input": [
      "import pandas as pd\n",
      "\n",
      "df = pd.read_csv('../../dataset/training/train_lyrics_rem_1000.csv')\n",
      "df.tail()"
     ],
     "language": "python",
     "metadata": {},
     "outputs": [
      {
       "html": [
        "<div style=\"max-height:1000px;max-width:1500px;overflow:auto;\">\n",
        "<table border=\"1\" class=\"dataframe\">\n",
        "  <thead>\n",
        "    <tr style=\"text-align: right;\">\n",
        "      <th></th>\n",
        "      <th>file</th>\n",
        "      <th>artist</th>\n",
        "      <th>title</th>\n",
        "      <th>lyrics</th>\n",
        "      <th>mood</th>\n",
        "      <th>year</th>\n",
        "    </tr>\n",
        "  </thead>\n",
        "  <tbody>\n",
        "    <tr>\n",
        "      <th>995</th>\n",
        "      <td> TRBIGRY128F42597B3.h5</td>\n",
        "      <td>                Sade</td>\n",
        "      <td>          All About Our Love</td>\n",
        "      <td>NaN</td>\n",
        "      <td>   sad</td>\n",
        "      <td> 2000</td>\n",
        "    </tr>\n",
        "    <tr>\n",
        "      <th>996</th>\n",
        "      <td> TRBIIEU128F9307C88.h5</td>\n",
        "      <td>     New Found Glory</td>\n",
        "      <td> Don't Let Her Pull You Down</td>\n",
        "      <td>NaN</td>\n",
        "      <td> happy</td>\n",
        "      <td> 2009</td>\n",
        "    </tr>\n",
        "    <tr>\n",
        "      <th>997</th>\n",
        "      <td> TRBIIJY12903CE4755.h5</td>\n",
        "      <td>      Mindy McCready</td>\n",
        "      <td>         Ten Thousand Angels</td>\n",
        "      <td>NaN</td>\n",
        "      <td> happy</td>\n",
        "      <td> 1996</td>\n",
        "    </tr>\n",
        "    <tr>\n",
        "      <th>998</th>\n",
        "      <td> TRBIIOT128F423C594.h5</td>\n",
        "      <td>        Joy Division</td>\n",
        "      <td>              Leaders Of Men</td>\n",
        "      <td>NaN</td>\n",
        "      <td>   sad</td>\n",
        "      <td> 1978</td>\n",
        "    </tr>\n",
        "    <tr>\n",
        "      <th>999</th>\n",
        "      <td> TRBIJYB128F14AE326.h5</td>\n",
        "      <td> Seventh Day Slumber</td>\n",
        "      <td>              Shattered Life</td>\n",
        "      <td>NaN</td>\n",
        "      <td>   sad</td>\n",
        "      <td> 2005</td>\n",
        "    </tr>\n",
        "  </tbody>\n",
        "</table>\n",
        "</div>"
       ],
       "metadata": {},
       "output_type": "pyout",
       "prompt_number": 3,
       "text": [
        "                      file               artist                        title  \\\n",
        "995  TRBIGRY128F42597B3.h5                 Sade           All About Our Love   \n",
        "996  TRBIIEU128F9307C88.h5      New Found Glory  Don't Let Her Pull You Down   \n",
        "997  TRBIIJY12903CE4755.h5       Mindy McCready          Ten Thousand Angels   \n",
        "998  TRBIIOT128F423C594.h5         Joy Division               Leaders Of Men   \n",
        "999  TRBIJYB128F14AE326.h5  Seventh Day Slumber               Shattered Life   \n",
        "\n",
        "     lyrics   mood  year  \n",
        "995     NaN    sad  2000  \n",
        "996     NaN  happy  2009  \n",
        "997     NaN  happy  1996  \n",
        "998     NaN    sad  1978  \n",
        "999     NaN    sad  2005  "
       ]
      }
     ],
     "prompt_number": 3
    },
    {
     "cell_type": "markdown",
     "metadata": {},
     "source": [
      "<br>\n",
      "<br>"
     ]
    },
    {
     "cell_type": "heading",
     "level": 3,
     "metadata": {},
     "source": [
      "Script to download the lyrics"
     ]
    },
    {
     "cell_type": "code",
     "collapsed": false,
     "input": [
      "# Sebastian Raschka, 2014\n",
      "# \n",
      "# Script to download lyrics from http://lyrics.wikia.com/\n",
      "\n",
      "import urllib\n",
      "import lxml.html\n",
      "\n",
      "class Song(object):\n",
      "    def __init__(self, artist, title):\n",
      "        self.artist = self.__format_str(artist)\n",
      "        self.title = self.__format_str(title)\n",
      "        self.url = None\n",
      "        self.lyric = None\n",
      "        \n",
      "    def __format_str(self, s):\n",
      "        # remove paranthesis and contents\n",
      "        s = s.strip()\n",
      "        try:\n",
      "            # strip accent\n",
      "            s = ''.join(c for c in unicodedata.normalize('NFD', s)\n",
      "                         if unicodedata.category(c) != 'Mn')\n",
      "        except:\n",
      "            pass\n",
      "        s = s.title()\n",
      "        return s\n",
      "        \n",
      "    def __quote(self, s):\n",
      "         return urllib.parse.quote(s.replace(' ', '_'))\n",
      "\n",
      "    def __make_url(self):\n",
      "        artist = self.__quote(self.artist)\n",
      "        title = self.__quote(self.title)\n",
      "        artist_title = '%s:%s' %(artist, title)\n",
      "        url = 'http://lyrics.wikia.com/' + artist_title\n",
      "        self.url = url\n",
      "        \n",
      "    def update(self, artist=None, title=None):\n",
      "        if artist:\n",
      "            self.artist = self.__format_str(artist)\n",
      "        if title:\n",
      "            self.title = self.__format_str(title)\n",
      "        \n",
      "    def lyricwikia(self):\n",
      "        self.__make_url()\n",
      "        try:\n",
      "            doc = lxml.html.parse(self.url)\n",
      "            lyricbox = doc.getroot().cssselect('.lyricbox')[0]\n",
      "        except (IOError, IndexError) as e:\n",
      "            self.lyric = ''\n",
      "            return self.lyric\n",
      "        lyrics = []\n",
      "\n",
      "        for node in lyricbox:\n",
      "            if node.tag == 'br':\n",
      "                lyrics.append('\\n')\n",
      "            if node.tail is not None:\n",
      "                lyrics.append(node.tail)\n",
      "        self.lyric =  \"\".join(lyrics).strip()    \n",
      "        return self.lyric\n",
      "    \n",
      "song = Song(artist='John Mellencamp', title='Jack and Diane')\n",
      "lyr = song.lyricwikia()\n",
      "print(lyr)"
     ],
     "language": "python",
     "metadata": {},
     "outputs": [
      {
       "output_type": "stream",
       "stream": "stdout",
       "text": [
        "A little ditty about Jack and Diane\n",
        "Two American kids growin' up in the heartland\n",
        "Jackie gonna be a football star\n",
        "Diane's a debutante, backseat of Jackie's car\n",
        "\n",
        "Suckin' on a chili dog outside the Tastee-Freez\n",
        "Diane's sittin' on Jackie's lap\n",
        "He's got his hands between her knees\n",
        "Jackie say, \"Hey Diane, let's run off behind the shady trees\n",
        "Dribble off those Bobbie Brooks, let me do what I please.\"\n",
        "And say uh\n",
        "\n",
        "Oh yeah, life goes on\n",
        "Long after the thrill of livin' is gone, they say uh\n",
        "Oh yeah, life goes on\n",
        "Long after the thrill of livin' is gone, they walk on\n",
        "\n",
        "Jackie sits back, collects his thoughts for the moment\n",
        "Scratches his head and does his best James Dean\n",
        "\"Well then there Diane, we oughta run off to the city.\"\n",
        "Diane says, \"Baby, you ain't missin' nothing.\"\n",
        "And Jackie say uh\n",
        "\n",
        "Oh yeah, life goes on\n",
        "Long after the thrill of livin' is gone\n",
        "Oh yeah, they say life goes on\n",
        "Long after the thrill of livin' is gone\n",
        "\n",
        "Gonna let it rock\n",
        "Let it roll\n",
        "Let the Bible Belt come and save my soul\n",
        "Hold on to sixteen as long as you can\n",
        "Changes come around real soon\n",
        "Make us women and men\n",
        "\n",
        "Oh yeah, life goes on\n",
        "Long after the thrill of livin' is gone\n",
        "Oh yeah, they say life goes on\n",
        "Long after the thrill of livin' is gone\n",
        "\n",
        "A little ditty about Jack and Diane\n",
        "Two American kids doin' the best they can\n"
       ]
      }
     ],
     "prompt_number": 4
    },
    {
     "cell_type": "markdown",
     "metadata": {},
     "source": [
      "<br>\n",
      "<br>"
     ]
    },
    {
     "cell_type": "heading",
     "level": 3,
     "metadata": {},
     "source": [
      "Download lyrics (training dataset)"
     ]
    },
    {
     "cell_type": "code",
     "collapsed": false,
     "input": [
      "import pyprind\n",
      "\n",
      "pbar = pyprind.ProgBar(df.shape[0])\n",
      "for row_id in df.index:\n",
      "    song = Song(artist=df.loc[row_id]['artist'], title=df.loc[row_id]['title'])\n",
      "    lyr = song.lyricwikia()\n",
      "    df.loc[row_id,'lyrics'] = lyr\n",
      "    pbar.update()\n",
      "    \n",
      "df.tail()"
     ],
     "language": "python",
     "metadata": {},
     "outputs": [
      {
       "output_type": "stream",
       "stream": "stderr",
       "text": [
        "0%                          100%\n"
       ]
      },
      {
       "output_type": "stream",
       "stream": "stderr",
       "text": [
        "[                              ]"
       ]
      },
      {
       "output_type": "stream",
       "stream": "stderr",
       "text": [
        "\r",
        "[#                             ]"
       ]
      },
      {
       "output_type": "stream",
       "stream": "stderr",
       "text": [
        " | ETA[sec]: 468.658 "
       ]
      },
      {
       "output_type": "stream",
       "stream": "stderr",
       "text": [
        "\r",
        "[##                            ]"
       ]
      },
      {
       "output_type": "stream",
       "stream": "stderr",
       "text": [
        " | ETA[sec]: 621.572 "
       ]
      },
      {
       "output_type": "stream",
       "stream": "stderr",
       "text": [
        "\r",
        "[###                           ]"
       ]
      },
      {
       "output_type": "stream",
       "stream": "stderr",
       "text": [
        " | ETA[sec]: 585.757 "
       ]
      },
      {
       "output_type": "stream",
       "stream": "stderr",
       "text": [
        "\r",
        "[####                          ]"
       ]
      },
      {
       "output_type": "stream",
       "stream": "stderr",
       "text": [
        " | ETA[sec]: 488.312 "
       ]
      },
      {
       "output_type": "stream",
       "stream": "stderr",
       "text": [
        "\r",
        "[#####                         ]"
       ]
      },
      {
       "output_type": "stream",
       "stream": "stderr",
       "text": [
        " | ETA[sec]: 538.403 "
       ]
      },
      {
       "output_type": "stream",
       "stream": "stderr",
       "text": [
        "\r",
        "[######                        ]"
       ]
      },
      {
       "output_type": "stream",
       "stream": "stderr",
       "text": [
        " | ETA[sec]: 480.357 "
       ]
      },
      {
       "output_type": "stream",
       "stream": "stderr",
       "text": [
        "\r",
        "[#######                       ]"
       ]
      },
      {
       "output_type": "stream",
       "stream": "stderr",
       "text": [
        " | ETA[sec]: 460.939 "
       ]
      },
      {
       "output_type": "stream",
       "stream": "stderr",
       "text": [
        "\r",
        "[########                      ]"
       ]
      },
      {
       "output_type": "stream",
       "stream": "stderr",
       "text": [
        " | ETA[sec]: 466.310 "
       ]
      },
      {
       "output_type": "stream",
       "stream": "stderr",
       "text": [
        "\r",
        "[#########                     ]"
       ]
      },
      {
       "output_type": "stream",
       "stream": "stderr",
       "text": [
        " | ETA[sec]: 421.071 "
       ]
      },
      {
       "output_type": "stream",
       "stream": "stderr",
       "text": [
        "\r",
        "[##########                    ]"
       ]
      },
      {
       "output_type": "stream",
       "stream": "stderr",
       "text": [
        " | ETA[sec]: 426.866 "
       ]
      },
      {
       "output_type": "stream",
       "stream": "stderr",
       "text": [
        "\r",
        "[###########                   ]"
       ]
      },
      {
       "output_type": "stream",
       "stream": "stderr",
       "text": [
        " | ETA[sec]: 401.505 "
       ]
      },
      {
       "output_type": "stream",
       "stream": "stderr",
       "text": [
        "\r",
        "[############                  ]"
       ]
      },
      {
       "output_type": "stream",
       "stream": "stderr",
       "text": [
        " | ETA[sec]: 400.304 "
       ]
      },
      {
       "output_type": "stream",
       "stream": "stderr",
       "text": [
        "\r",
        "[#############                 ]"
       ]
      },
      {
       "output_type": "stream",
       "stream": "stderr",
       "text": [
        " | ETA[sec]: 368.517 "
       ]
      },
      {
       "output_type": "stream",
       "stream": "stderr",
       "text": [
        "\r",
        "[##############                ]"
       ]
      },
      {
       "output_type": "stream",
       "stream": "stderr",
       "text": [
        " | ETA[sec]: 363.525 "
       ]
      },
      {
       "output_type": "stream",
       "stream": "stderr",
       "text": [
        "\r",
        "[###############               ]"
       ]
      },
      {
       "output_type": "stream",
       "stream": "stderr",
       "text": [
        " | ETA[sec]: 327.778 "
       ]
      },
      {
       "output_type": "stream",
       "stream": "stderr",
       "text": [
        "\r",
        "[################              ]"
       ]
      },
      {
       "output_type": "stream",
       "stream": "stderr",
       "text": [
        " | ETA[sec]: 318.972 "
       ]
      },
      {
       "output_type": "stream",
       "stream": "stderr",
       "text": [
        "\r",
        "[#################             ]"
       ]
      },
      {
       "output_type": "stream",
       "stream": "stderr",
       "text": [
        " | ETA[sec]: 302.278 "
       ]
      },
      {
       "output_type": "stream",
       "stream": "stderr",
       "text": [
        "\r",
        "[##################            ]"
       ]
      },
      {
       "output_type": "stream",
       "stream": "stderr",
       "text": [
        " | ETA[sec]: 280.255 "
       ]
      },
      {
       "output_type": "stream",
       "stream": "stderr",
       "text": [
        "\r",
        "[###################           ]"
       ]
      },
      {
       "output_type": "stream",
       "stream": "stderr",
       "text": [
        " | ETA[sec]: 255.185 "
       ]
      },
      {
       "output_type": "stream",
       "stream": "stderr",
       "text": [
        "\r",
        "[####################          ]"
       ]
      },
      {
       "output_type": "stream",
       "stream": "stderr",
       "text": [
        " | ETA[sec]: 234.053 "
       ]
      },
      {
       "output_type": "stream",
       "stream": "stderr",
       "text": [
        "\r",
        "[#####################         ]"
       ]
      },
      {
       "output_type": "stream",
       "stream": "stderr",
       "text": [
        " | ETA[sec]: 214.700 "
       ]
      },
      {
       "output_type": "stream",
       "stream": "stderr",
       "text": [
        "\r",
        "[######################        ]"
       ]
      },
      {
       "output_type": "stream",
       "stream": "stderr",
       "text": [
        " | ETA[sec]: 192.990 "
       ]
      },
      {
       "output_type": "stream",
       "stream": "stderr",
       "text": [
        "\r",
        "[#######################       ]"
       ]
      },
      {
       "output_type": "stream",
       "stream": "stderr",
       "text": [
        " | ETA[sec]: 171.996 "
       ]
      },
      {
       "output_type": "stream",
       "stream": "stderr",
       "text": [
        "\r",
        "[########################      ]"
       ]
      },
      {
       "output_type": "stream",
       "stream": "stderr",
       "text": [
        " | ETA[sec]: 149.154 "
       ]
      },
      {
       "output_type": "stream",
       "stream": "stderr",
       "text": [
        "\r",
        "[#########################     ]"
       ]
      },
      {
       "output_type": "stream",
       "stream": "stderr",
       "text": [
        " | ETA[sec]: 122.894 "
       ]
      },
      {
       "output_type": "stream",
       "stream": "stderr",
       "text": [
        "\r",
        "[##########################    ]"
       ]
      },
      {
       "output_type": "stream",
       "stream": "stderr",
       "text": [
        " | ETA[sec]: 99.954 "
       ]
      },
      {
       "output_type": "stream",
       "stream": "stderr",
       "text": [
        "\r",
        "[###########################   ]"
       ]
      },
      {
       "output_type": "stream",
       "stream": "stderr",
       "text": [
        " | ETA[sec]: 74.000 "
       ]
      },
      {
       "output_type": "stream",
       "stream": "stderr",
       "text": [
        "\r",
        "[############################  ]"
       ]
      },
      {
       "output_type": "stream",
       "stream": "stderr",
       "text": [
        " | ETA[sec]: 49.493 "
       ]
      },
      {
       "output_type": "stream",
       "stream": "stderr",
       "text": [
        "\r",
        "[############################# ]"
       ]
      },
      {
       "output_type": "stream",
       "stream": "stderr",
       "text": [
        " | ETA[sec]: 25.004 "
       ]
      },
      {
       "output_type": "stream",
       "stream": "stderr",
       "text": [
        "\r",
        "[##############################]"
       ]
      },
      {
       "output_type": "stream",
       "stream": "stderr",
       "text": [
        " | ETA[sec]: 0.000 "
       ]
      },
      {
       "output_type": "stream",
       "stream": "stderr",
       "text": [
        "\r",
        "[##############################]"
       ]
      },
      {
       "output_type": "stream",
       "stream": "stderr",
       "text": [
        " | ETA[sec]: 0.000 "
       ]
      },
      {
       "output_type": "stream",
       "stream": "stderr",
       "text": [
        "\n",
        "Total time elapsed: 760.945 sec\n"
       ]
      },
      {
       "html": [
        "<div style=\"max-height:1000px;max-width:1500px;overflow:auto;\">\n",
        "<table border=\"1\" class=\"dataframe\">\n",
        "  <thead>\n",
        "    <tr style=\"text-align: right;\">\n",
        "      <th></th>\n",
        "      <th>file</th>\n",
        "      <th>artist</th>\n",
        "      <th>title</th>\n",
        "      <th>lyrics</th>\n",
        "      <th>mood</th>\n",
        "      <th>year</th>\n",
        "    </tr>\n",
        "  </thead>\n",
        "  <tbody>\n",
        "    <tr>\n",
        "      <th>995</th>\n",
        "      <td> TRBIGRY128F42597B3.h5</td>\n",
        "      <td>                Sade</td>\n",
        "      <td>          All About Our Love</td>\n",
        "      <td> Its all about our love\\nSo shall it be forever...</td>\n",
        "      <td>   sad</td>\n",
        "      <td> 2000</td>\n",
        "    </tr>\n",
        "    <tr>\n",
        "      <th>996</th>\n",
        "      <td> TRBIIEU128F9307C88.h5</td>\n",
        "      <td>     New Found Glory</td>\n",
        "      <td> Don't Let Her Pull You Down</td>\n",
        "      <td> It's time that I rain on your parade\\nWatch as...</td>\n",
        "      <td> happy</td>\n",
        "      <td> 2009</td>\n",
        "    </tr>\n",
        "    <tr>\n",
        "      <th>997</th>\n",
        "      <td> TRBIIJY12903CE4755.h5</td>\n",
        "      <td>      Mindy McCready</td>\n",
        "      <td>         Ten Thousand Angels</td>\n",
        "      <td> Speakin of the devil\\nLook who just walked in\\...</td>\n",
        "      <td> happy</td>\n",
        "      <td> 1996</td>\n",
        "    </tr>\n",
        "    <tr>\n",
        "      <th>998</th>\n",
        "      <td> TRBIIOT128F423C594.h5</td>\n",
        "      <td>        Joy Division</td>\n",
        "      <td>              Leaders Of Men</td>\n",
        "      <td> Born from some mother's womb\\nJust like any ot...</td>\n",
        "      <td>   sad</td>\n",
        "      <td> 1978</td>\n",
        "    </tr>\n",
        "    <tr>\n",
        "      <th>999</th>\n",
        "      <td> TRBIJYB128F14AE326.h5</td>\n",
        "      <td> Seventh Day Slumber</td>\n",
        "      <td>              Shattered Life</td>\n",
        "      <td> This wanting more from me is tearing me, it's ...</td>\n",
        "      <td>   sad</td>\n",
        "      <td> 2005</td>\n",
        "    </tr>\n",
        "  </tbody>\n",
        "</table>\n",
        "</div>"
       ],
       "metadata": {},
       "output_type": "pyout",
       "prompt_number": 6,
       "text": [
        "                      file               artist                        title  \\\n",
        "995  TRBIGRY128F42597B3.h5                 Sade           All About Our Love   \n",
        "996  TRBIIEU128F9307C88.h5      New Found Glory  Don't Let Her Pull You Down   \n",
        "997  TRBIIJY12903CE4755.h5       Mindy McCready          Ten Thousand Angels   \n",
        "998  TRBIIOT128F423C594.h5         Joy Division               Leaders Of Men   \n",
        "999  TRBIJYB128F14AE326.h5  Seventh Day Slumber               Shattered Life   \n",
        "\n",
        "                                                lyrics   mood  year  \n",
        "995  Its all about our love\\nSo shall it be forever...    sad  2000  \n",
        "996  It's time that I rain on your parade\\nWatch as...  happy  2009  \n",
        "997  Speakin of the devil\\nLook who just walked in\\...  happy  1996  \n",
        "998  Born from some mother's womb\\nJust like any ot...    sad  1978  \n",
        "999  This wanting more from me is tearing me, it's ...    sad  2005  "
       ]
      }
     ],
     "prompt_number": 6
    },
    {
     "cell_type": "code",
     "collapsed": false,
     "input": [
      "df.to_csv('../../dataset/training/train_lyrics_1000.csv', index=False)"
     ],
     "language": "python",
     "metadata": {},
     "outputs": []
    },
    {
     "cell_type": "markdown",
     "metadata": {},
     "source": [
      "<br>\n",
      "<br>"
     ]
    },
    {
     "cell_type": "heading",
     "level": 3,
     "metadata": {},
     "source": [
      "Download lyrics (validation dataset)"
     ]
    },
    {
     "cell_type": "code",
     "collapsed": false,
     "input": [
      "df = pd.read_csv('../../dataset/validation/valid_lyrics_rem_200.csv')\n",
      "pbar = pyprind.ProgBar(df.shape[0])\n",
      "for row_id in df.index:\n",
      "    song = Song(artist=df.loc[row_id]['artist'], title=df.loc[row_id]['title'])\n",
      "    lyr = song.lyricwikia()\n",
      "    df.loc[row_id,'lyrics'] = lyr\n",
      "    pbar.update()\n",
      "    \n",
      "df.tail()"
     ],
     "language": "python",
     "metadata": {},
     "outputs": [
      {
       "output_type": "stream",
       "stream": "stderr",
       "text": [
        "0%                          100%\n"
       ]
      },
      {
       "output_type": "stream",
       "stream": "stderr",
       "text": [
        "[                              ]"
       ]
      },
      {
       "output_type": "stream",
       "stream": "stderr",
       "text": [
        "\r",
        "[#                             ]"
       ]
      },
      {
       "output_type": "stream",
       "stream": "stderr",
       "text": [
        " | ETA[sec]: 210.650 "
       ]
      },
      {
       "output_type": "stream",
       "stream": "stderr",
       "text": [
        "\r",
        "[##                            ]"
       ]
      },
      {
       "output_type": "stream",
       "stream": "stderr",
       "text": [
        " | ETA[sec]: 223.575 "
       ]
      },
      {
       "output_type": "stream",
       "stream": "stderr",
       "text": [
        "\r",
        "[###                           ]"
       ]
      },
      {
       "output_type": "stream",
       "stream": "stderr",
       "text": [
        " | ETA[sec]: 213.663 "
       ]
      },
      {
       "output_type": "stream",
       "stream": "stderr",
       "text": [
        "\r",
        "[####                          ]"
       ]
      },
      {
       "output_type": "stream",
       "stream": "stderr",
       "text": [
        " | ETA[sec]: 168.979 "
       ]
      },
      {
       "output_type": "stream",
       "stream": "stderr",
       "text": [
        "\r",
        "[#####                         ]"
       ]
      },
      {
       "output_type": "stream",
       "stream": "stderr",
       "text": [
        " | ETA[sec]: 147.863 "
       ]
      },
      {
       "output_type": "stream",
       "stream": "stderr",
       "text": [
        "\r",
        "[######                        ]"
       ]
      },
      {
       "output_type": "stream",
       "stream": "stderr",
       "text": [
        " | ETA[sec]: 145.753 "
       ]
      },
      {
       "output_type": "stream",
       "stream": "stderr",
       "text": [
        "\r",
        "[#######                       ]"
       ]
      },
      {
       "output_type": "stream",
       "stream": "stderr",
       "text": [
        " | ETA[sec]: 143.001 "
       ]
      },
      {
       "output_type": "stream",
       "stream": "stderr",
       "text": [
        "\r",
        "[########                      ]"
       ]
      },
      {
       "output_type": "stream",
       "stream": "stderr",
       "text": [
        " | ETA[sec]: 138.961 "
       ]
      },
      {
       "output_type": "stream",
       "stream": "stderr",
       "text": [
        "\r",
        "[#########                     ]"
       ]
      },
      {
       "output_type": "stream",
       "stream": "stderr",
       "text": [
        " | ETA[sec]: 135.863 "
       ]
      },
      {
       "output_type": "stream",
       "stream": "stderr",
       "text": [
        "\r",
        "[##########                    ]"
       ]
      },
      {
       "output_type": "stream",
       "stream": "stderr",
       "text": [
        " | ETA[sec]: 131.238 "
       ]
      },
      {
       "output_type": "stream",
       "stream": "stderr",
       "text": [
        "\r",
        "[###########                   ]"
       ]
      },
      {
       "output_type": "stream",
       "stream": "stderr",
       "text": [
        " | ETA[sec]: 123.717 "
       ]
      },
      {
       "output_type": "stream",
       "stream": "stderr",
       "text": [
        "\r",
        "[############                  ]"
       ]
      },
      {
       "output_type": "stream",
       "stream": "stderr",
       "text": [
        " | ETA[sec]: 111.045 "
       ]
      },
      {
       "output_type": "stream",
       "stream": "stderr",
       "text": [
        "\r",
        "[#############                 ]"
       ]
      },
      {
       "output_type": "stream",
       "stream": "stderr",
       "text": [
        " | ETA[sec]: 97.799 "
       ]
      },
      {
       "output_type": "stream",
       "stream": "stderr",
       "text": [
        "\r",
        "[##############                ]"
       ]
      },
      {
       "output_type": "stream",
       "stream": "stderr",
       "text": [
        " | ETA[sec]: 89.790 "
       ]
      },
      {
       "output_type": "stream",
       "stream": "stderr",
       "text": [
        "\r",
        "[###############               ]"
       ]
      },
      {
       "output_type": "stream",
       "stream": "stderr",
       "text": [
        " | ETA[sec]: 86.941 "
       ]
      },
      {
       "output_type": "stream",
       "stream": "stderr",
       "text": [
        "\r",
        "[################              ]"
       ]
      },
      {
       "output_type": "stream",
       "stream": "stderr",
       "text": [
        " | ETA[sec]: 82.717 "
       ]
      },
      {
       "output_type": "stream",
       "stream": "stderr",
       "text": [
        "\r",
        "[#################             ]"
       ]
      },
      {
       "output_type": "stream",
       "stream": "stderr",
       "text": [
        " | ETA[sec]: 77.856 "
       ]
      },
      {
       "output_type": "stream",
       "stream": "stderr",
       "text": [
        "\r",
        "[##################            ]"
       ]
      },
      {
       "output_type": "stream",
       "stream": "stderr",
       "text": [
        " | ETA[sec]: 74.264 "
       ]
      },
      {
       "output_type": "stream",
       "stream": "stderr",
       "text": [
        "\r",
        "[###################           ]"
       ]
      },
      {
       "output_type": "stream",
       "stream": "stderr",
       "text": [
        " | ETA[sec]: 68.676 "
       ]
      },
      {
       "output_type": "stream",
       "stream": "stderr",
       "text": [
        "\r",
        "[####################          ]"
       ]
      },
      {
       "output_type": "stream",
       "stream": "stderr",
       "text": [
        " | ETA[sec]: 60.960 "
       ]
      },
      {
       "output_type": "stream",
       "stream": "stderr",
       "text": [
        "\r",
        "[#####################         ]"
       ]
      },
      {
       "output_type": "stream",
       "stream": "stderr",
       "text": [
        " | ETA[sec]: 55.096 "
       ]
      },
      {
       "output_type": "stream",
       "stream": "stderr",
       "text": [
        "\r",
        "[######################        ]"
       ]
      },
      {
       "output_type": "stream",
       "stream": "stderr",
       "text": [
        " | ETA[sec]: 49.313 "
       ]
      },
      {
       "output_type": "stream",
       "stream": "stderr",
       "text": [
        "\r",
        "[#######################       ]"
       ]
      },
      {
       "output_type": "stream",
       "stream": "stderr",
       "text": [
        " | ETA[sec]: 44.115 "
       ]
      },
      {
       "output_type": "stream",
       "stream": "stderr",
       "text": [
        "\r",
        "[########################      ]"
       ]
      },
      {
       "output_type": "stream",
       "stream": "stderr",
       "text": [
        " | ETA[sec]: 38.915 "
       ]
      },
      {
       "output_type": "stream",
       "stream": "stderr",
       "text": [
        "\r",
        "[#########################     ]"
       ]
      },
      {
       "output_type": "stream",
       "stream": "stderr",
       "text": [
        " | ETA[sec]: 32.188 "
       ]
      },
      {
       "output_type": "stream",
       "stream": "stderr",
       "text": [
        "\r",
        "[##########################    ]"
       ]
      },
      {
       "output_type": "stream",
       "stream": "stderr",
       "text": [
        " | ETA[sec]: 25.432 "
       ]
      },
      {
       "output_type": "stream",
       "stream": "stderr",
       "text": [
        "\r",
        "[###########################   ]"
       ]
      },
      {
       "output_type": "stream",
       "stream": "stderr",
       "text": [
        " | ETA[sec]: 19.151 "
       ]
      },
      {
       "output_type": "stream",
       "stream": "stderr",
       "text": [
        "\r",
        "[############################  ]"
       ]
      },
      {
       "output_type": "stream",
       "stream": "stderr",
       "text": [
        " | ETA[sec]: 12.173 "
       ]
      },
      {
       "output_type": "stream",
       "stream": "stderr",
       "text": [
        "\r",
        "[############################# ]"
       ]
      },
      {
       "output_type": "stream",
       "stream": "stderr",
       "text": [
        " | ETA[sec]: 5.530 "
       ]
      },
      {
       "output_type": "stream",
       "stream": "stderr",
       "text": [
        "\r",
        "[##############################]"
       ]
      },
      {
       "output_type": "stream",
       "stream": "stderr",
       "text": [
        " | ETA[sec]: 0.000 "
       ]
      },
      {
       "output_type": "stream",
       "stream": "stderr",
       "text": [
        "\r",
        "[##############################]"
       ]
      },
      {
       "output_type": "stream",
       "stream": "stderr",
       "text": [
        " | ETA[sec]: 0.000 "
       ]
      },
      {
       "output_type": "stream",
       "stream": "stderr",
       "text": [
        "\n",
        "Total time elapsed: 186.137 sec\n"
       ]
      },
      {
       "html": [
        "<div style=\"max-height:1000px;max-width:1500px;overflow:auto;\">\n",
        "<table border=\"1\" class=\"dataframe\">\n",
        "  <thead>\n",
        "    <tr style=\"text-align: right;\">\n",
        "      <th></th>\n",
        "      <th>file</th>\n",
        "      <th>artist</th>\n",
        "      <th>title</th>\n",
        "      <th>genre</th>\n",
        "      <th>lyrics</th>\n",
        "      <th>mood</th>\n",
        "    </tr>\n",
        "  </thead>\n",
        "  <tbody>\n",
        "    <tr>\n",
        "      <th>195</th>\n",
        "      <td> TRAKQEA128F1495E21.h5</td>\n",
        "      <td>         Prince</td>\n",
        "      <td>            Escape ( LP Version)</td>\n",
        "      <td> Rock</td>\n",
        "      <td> {B-side of Glam Slam}\\nSnare drum pounds on th...</td>\n",
        "      <td> happy</td>\n",
        "    </tr>\n",
        "    <tr>\n",
        "      <th>196</th>\n",
        "      <td> TRAKQLN128F932AC25.h5</td>\n",
        "      <td>           Cavo</td>\n",
        "      <td>      Over Again (Album Version)</td>\n",
        "      <td> Rock</td>\n",
        "      <td> Well I will rise\\nThe morning comes\\nNothing e...</td>\n",
        "      <td>   sad</td>\n",
        "    </tr>\n",
        "    <tr>\n",
        "      <th>197</th>\n",
        "      <td> TRAKQXJ128F147A028.h5</td>\n",
        "      <td>            AFI</td>\n",
        "      <td>                  Summer Shudder</td>\n",
        "      <td> Rock</td>\n",
        "      <td> Listen when I say, when I say it's real\\nReal ...</td>\n",
        "      <td> happy</td>\n",
        "    </tr>\n",
        "    <tr>\n",
        "      <th>198</th>\n",
        "      <td> TRAKRQW128F427D6E3.h5</td>\n",
        "      <td>      Vitamin C</td>\n",
        "      <td> Girls Against Boys (LP Version)</td>\n",
        "      <td>  Pop</td>\n",
        "      <td> Imagine a world where the girls, girls rule th...</td>\n",
        "      <td> happy</td>\n",
        "    </tr>\n",
        "    <tr>\n",
        "      <th>199</th>\n",
        "      <td> TRAKSRQ128F4269AE8.h5</td>\n",
        "      <td> Richard Burton</td>\n",
        "      <td>                         Camelot</td>\n",
        "      <td> Jazz</td>\n",
        "      <td> Each evening, from December to December\\nBefor...</td>\n",
        "      <td> happy</td>\n",
        "    </tr>\n",
        "  </tbody>\n",
        "</table>\n",
        "</div>"
       ],
       "metadata": {},
       "output_type": "pyout",
       "prompt_number": 7,
       "text": [
        "                      file          artist                            title  \\\n",
        "195  TRAKQEA128F1495E21.h5          Prince             Escape ( LP Version)   \n",
        "196  TRAKQLN128F932AC25.h5            Cavo       Over Again (Album Version)   \n",
        "197  TRAKQXJ128F147A028.h5             AFI                   Summer Shudder   \n",
        "198  TRAKRQW128F427D6E3.h5       Vitamin C  Girls Against Boys (LP Version)   \n",
        "199  TRAKSRQ128F4269AE8.h5  Richard Burton                          Camelot   \n",
        "\n",
        "    genre                                             lyrics   mood  \n",
        "195  Rock  {B-side of Glam Slam}\\nSnare drum pounds on th...  happy  \n",
        "196  Rock  Well I will rise\\nThe morning comes\\nNothing e...    sad  \n",
        "197  Rock  Listen when I say, when I say it's real\\nReal ...  happy  \n",
        "198   Pop  Imagine a world where the girls, girls rule th...  happy  \n",
        "199  Jazz  Each evening, from December to December\\nBefor...  happy  "
       ]
      }
     ],
     "prompt_number": 7
    },
    {
     "cell_type": "code",
     "collapsed": false,
     "input": [
      "df.to_csv('../../dataset/validation/valid_lyrics_200.csv', index=False)"
     ],
     "language": "python",
     "metadata": {},
     "outputs": []
    },
    {
     "cell_type": "markdown",
     "metadata": {},
     "source": [
      "<br>\n",
      "<br>"
     ]
    },
    {
     "cell_type": "heading",
     "level": 3,
     "metadata": {},
     "source": [
      "Download lyrics (auxiliary dataset)"
     ]
    },
    {
     "cell_type": "code",
     "collapsed": false,
     "input": [
      "df = pd.read_csv('../../dataset/auxiliary/aux_lyrics_rem.csv')\n",
      "pbar = pyprind.ProgBar(df.shape[0])\n",
      "for row_id in df.index:\n",
      "    song = Song(artist=df.loc[row_id]['artist'], title=df.loc[row_id]['title'])\n",
      "    lyr = song.lyricwikia()\n",
      "    df.loc[row_id,'lyrics'] = lyr\n",
      "    pbar.update()\n",
      "    \n",
      "df.tail()"
     ],
     "language": "python",
     "metadata": {},
     "outputs": []
    },
    {
     "cell_type": "code",
     "collapsed": false,
     "input": [
      "df.to_csv('../../dataset/auxiliary/aux_lyrics.csv', index=False)"
     ],
     "language": "python",
     "metadata": {},
     "outputs": []
    }
   ],
   "metadata": {}
  }
 ]
}