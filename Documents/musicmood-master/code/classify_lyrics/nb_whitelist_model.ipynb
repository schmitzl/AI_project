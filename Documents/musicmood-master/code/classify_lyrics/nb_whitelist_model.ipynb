{
 "metadata": {
  "name": "",
  "signature": "sha256:1255d291470349aa56148bc763b84f768cac42a63121e9fe161643c2c1ae6cae"
 },
 "nbformat": 3,
 "nbformat_minor": 0,
 "worksheets": [
  {
   "cells": [
    {
     "cell_type": "code",
     "collapsed": false,
     "input": [
      "%load_ext watermark"
     ],
     "language": "python",
     "metadata": {},
     "outputs": [],
     "prompt_number": 1
    },
    {
     "cell_type": "code",
     "collapsed": false,
     "input": [
      "%watermark -d -v -a 'Sebastian Raschka' -p scikit-learn,nltk,numpy"
     ],
     "language": "python",
     "metadata": {},
     "outputs": [
      {
       "output_type": "stream",
       "stream": "stdout",
       "text": [
        "Sebastian Raschka 13/12/2014 \n",
        "\n",
        "CPython 3.4.2\n",
        "IPython 2.3.0\n",
        "\n",
        "scikit-learn 0.15.2\n",
        "nltk 3.0.0\n",
        "numpy 1.9.1\n"
       ]
      }
     ],
     "prompt_number": 2
    },
    {
     "cell_type": "markdown",
     "metadata": {},
     "source": [
      "<font size=\"1.5em\">[More information](https://github.com/rasbt/watermark) about the `watermark` magic command extension.</font>"
     ]
    },
    {
     "cell_type": "markdown",
     "metadata": {},
     "source": [
      "<br>\n",
      "<br>"
     ]
    },
    {
     "cell_type": "heading",
     "level": 1,
     "metadata": {},
     "source": [
      "Lyrics Mood Classification - Training"
     ]
    },
    {
     "cell_type": "markdown",
     "metadata": {},
     "source": [
      "<br>\n",
      "<br>"
     ]
    },
    {
     "cell_type": "heading",
     "level": 3,
     "metadata": {},
     "source": [
      "Sections"
     ]
    },
    {
     "cell_type": "markdown",
     "metadata": {},
     "source": [
      "- [Preprocessing](#Preprocessing)\n",
      "    - [Reading the dataset](#Reading-the-dataset)\n",
      "    - [Label Encoder](#Label-Encoder)\n",
      "    - [Feature extraction: Word counts and Vectorizers](#Feature-extraction:-Word-counts-and-Vectorizers)\n",
      "        - [Porter Stemmer](#Porter-Stemmer)\n",
      "        - [Stop word list](#Stop-word-list)\n",
      "        - [Initial vocabularies](Initial-vocabularies)\n",
      "        - [Whitelists of positive and negative words](#Whitelists-of-positive-and-negative-words)\n",
      "        - [Summary vocabulary sizes](#Summary-vocabulary-sizes)\n",
      "- [Model Selection](#Model-Selection)\n",
      "    - [Setup](#Setup)\n",
      "    - [Grid Search](#Grid-Search)\n",
      "    - [ROC Curves](#ROC-Curves)\n",
      "- [Validation](#Validation)\n",
      "    - [Confusion matrix](#Confusion-matrix)\n",
      "    - [ROC AUC, Accuracy, Precision, Recall, and F1-score](#ROC-AUC,-Accuracy,-Precision,-Recall,-and-F1-score)\n",
      "- [Save classifier](#Save-classifier)"
     ]
    },
    {
     "cell_type": "markdown",
     "metadata": {},
     "source": [
      "<br>\n",
      "<br>"
     ]
    },
    {
     "cell_type": "heading",
     "level": 1,
     "metadata": {},
     "source": [
      "Preprocessing"
     ]
    },
    {
     "cell_type": "markdown",
     "metadata": {},
     "source": [
      "[[back to top](#Sections)]"
     ]
    },
    {
     "cell_type": "markdown",
     "metadata": {},
     "source": [
      "<br>\n",
      "<br>"
     ]
    },
    {
     "cell_type": "heading",
     "level": 3,
     "metadata": {},
     "source": [
      "Reading the dataset"
     ]
    },
    {
     "cell_type": "markdown",
     "metadata": {},
     "source": [
      "[[back to top](#Sections)]"
     ]
    },
    {
     "cell_type": "code",
     "collapsed": false,
     "input": [
      "import pandas as pd\n",
      "\n",
      "df_train = pd.read_csv('../../dataset/training/train_lyrics_1000.csv')\n",
      "df_test = pd.read_csv('../../dataset/validation/valid_lyrics_200.csv')\n",
      "\n",
      "X_train = df_train['lyrics'].values \n",
      "y_train = df_train['mood'].values\n",
      "\n",
      "X_test = df_test['lyrics'].values \n",
      "y_test = df_test['mood'].values\n",
      "\n",
      "df_train.head()"
     ],
     "language": "python",
     "metadata": {},
     "outputs": [
      {
       "html": [
        "<div style=\"max-height:1000px;max-width:1500px;overflow:auto;\">\n",
        "<table border=\"1\" class=\"dataframe\">\n",
        "  <thead>\n",
        "    <tr style=\"text-align: right;\">\n",
        "      <th></th>\n",
        "      <th>file</th>\n",
        "      <th>artist</th>\n",
        "      <th>title</th>\n",
        "      <th>lyrics</th>\n",
        "      <th>mood</th>\n",
        "      <th>year</th>\n",
        "    </tr>\n",
        "  </thead>\n",
        "  <tbody>\n",
        "    <tr>\n",
        "      <th>0</th>\n",
        "      <td> TRAAAAW128F429D538.h5</td>\n",
        "      <td>        Casual</td>\n",
        "      <td>        I Didn't Mean To</td>\n",
        "      <td> Verse One:\\n\\nAlright I might\\nHave had a litt...</td>\n",
        "      <td>   sad</td>\n",
        "      <td> 1994</td>\n",
        "    </tr>\n",
        "    <tr>\n",
        "      <th>1</th>\n",
        "      <td> TRAAAEF128F4273421.h5</td>\n",
        "      <td>      Adam Ant</td>\n",
        "      <td>         Something Girls</td>\n",
        "      <td> Adam Ant/Marco Pirroni\\nEvery girl is a someth...</td>\n",
        "      <td> happy</td>\n",
        "      <td> 1982</td>\n",
        "    </tr>\n",
        "    <tr>\n",
        "      <th>2</th>\n",
        "      <td> TRAAAFD128F92F423A.h5</td>\n",
        "      <td>           Gob</td>\n",
        "      <td>          Face the Ashes</td>\n",
        "      <td> I've just erased it's been a while, I've got a...</td>\n",
        "      <td>   sad</td>\n",
        "      <td> 2007</td>\n",
        "    </tr>\n",
        "    <tr>\n",
        "      <th>3</th>\n",
        "      <td> TRAABJV128F1460C49.h5</td>\n",
        "      <td> Lionel Richie</td>\n",
        "      <td> Tonight Will Be Alright</td>\n",
        "      <td> Little darling \\nWhere you've been so long \\nI...</td>\n",
        "      <td> happy</td>\n",
        "      <td> 1986</td>\n",
        "    </tr>\n",
        "    <tr>\n",
        "      <th>4</th>\n",
        "      <td> TRAABLR128F423B7E3.h5</td>\n",
        "      <td>    Blue Rodeo</td>\n",
        "      <td>                Floating</td>\n",
        "      <td> Lead Vocal by Greg\\n\\nWell, these late night c...</td>\n",
        "      <td>   sad</td>\n",
        "      <td> 1987</td>\n",
        "    </tr>\n",
        "  </tbody>\n",
        "</table>\n",
        "</div>"
       ],
       "metadata": {},
       "output_type": "pyout",
       "prompt_number": 3,
       "text": [
        "                    file         artist                    title  \\\n",
        "0  TRAAAAW128F429D538.h5         Casual         I Didn't Mean To   \n",
        "1  TRAAAEF128F4273421.h5       Adam Ant          Something Girls   \n",
        "2  TRAAAFD128F92F423A.h5            Gob           Face the Ashes   \n",
        "3  TRAABJV128F1460C49.h5  Lionel Richie  Tonight Will Be Alright   \n",
        "4  TRAABLR128F423B7E3.h5     Blue Rodeo                 Floating   \n",
        "\n",
        "                                              lyrics   mood  year  \n",
        "0  Verse One:\\n\\nAlright I might\\nHave had a litt...    sad  1994  \n",
        "1  Adam Ant/Marco Pirroni\\nEvery girl is a someth...  happy  1982  \n",
        "2  I've just erased it's been a while, I've got a...    sad  2007  \n",
        "3  Little darling \\nWhere you've been so long \\nI...  happy  1986  \n",
        "4  Lead Vocal by Greg\\n\\nWell, these late night c...    sad  1987  "
       ]
      }
     ],
     "prompt_number": 3
    },
    {
     "cell_type": "markdown",
     "metadata": {},
     "source": [
      "<br>\n",
      "<br>"
     ]
    },
    {
     "cell_type": "heading",
     "level": 3,
     "metadata": {},
     "source": [
      "Label Encoder"
     ]
    },
    {
     "cell_type": "markdown",
     "metadata": {},
     "source": [
      "[[back to top](#Sections)]"
     ]
    },
    {
     "cell_type": "code",
     "collapsed": false,
     "input": [
      "import pickle\n",
      "import numpy as np\n",
      "\n",
      "pickle_in = open('./label_encoder.p', 'rb')\n",
      "le = pickle.load(pickle_in)\n",
      "pickle_in.close()\n",
      "\n",
      "print('before: %s ...' %y_train[:5])\n",
      "\n",
      "y_train = le.transform(y_train)\n",
      "y_test = le.transform(y_test)\n",
      "\n",
      "print('after: %s ...' %y_train[:5])"
     ],
     "language": "python",
     "metadata": {},
     "outputs": [
      {
       "output_type": "stream",
       "stream": "stdout",
       "text": [
        "before: ['sad' 'happy' 'sad' 'happy' 'sad'] ...\n",
        "after: [1 0 1 0 1] ...\n"
       ]
      }
     ],
     "prompt_number": 4
    },
    {
     "cell_type": "markdown",
     "metadata": {},
     "source": [
      "<br>\n",
      "<br>"
     ]
    },
    {
     "cell_type": "heading",
     "level": 3,
     "metadata": {},
     "source": [
      "Stop word list"
     ]
    },
    {
     "cell_type": "markdown",
     "metadata": {},
     "source": [
      "[[back to top](#Sections)]"
     ]
    },
    {
     "cell_type": "code",
     "collapsed": false,
     "input": [
      "with open('./stopwords_eng.txt') as sw:\n",
      "    stopwords = sw.read().split()\n",
      "stopwords[-10:]"
     ],
     "language": "python",
     "metadata": {},
     "outputs": [
      {
       "metadata": {},
       "output_type": "pyout",
       "prompt_number": 5,
       "text": [
        "['too', 'very', 's', 't', 'can', 'will', 'just', 'don', 'should', 'now']"
       ]
      }
     ],
     "prompt_number": 5
    },
    {
     "cell_type": "markdown",
     "metadata": {},
     "source": [
      "<br>\n",
      "<br>"
     ]
    },
    {
     "cell_type": "heading",
     "level": 2,
     "metadata": {},
     "source": [
      "Feature extraction: Word counts and Vectorizers"
     ]
    },
    {
     "cell_type": "markdown",
     "metadata": {},
     "source": [
      "[[back to top](#Sections)]"
     ]
    },
    {
     "cell_type": "heading",
     "level": 3,
     "metadata": {},
     "source": [
      "Initial vocabularies"
     ]
    },
    {
     "cell_type": "markdown",
     "metadata": {},
     "source": [
      "[[back to top](#Sections)]"
     ]
    },
    {
     "cell_type": "code",
     "collapsed": false,
     "input": [
      "# With Porter Stemming\n",
      "from sklearn.feature_extraction.text import CountVectorizer\n",
      "from nltk.stem import PorterStemmer\n",
      "porter = PorterStemmer()\n",
      "\n",
      "import re\n",
      "\n",
      "vec_porter = CountVectorizer(analyzer='word',\n",
      "                      decode_error='replace',\n",
      "                      tokenizer=lambda text: text.split(),\n",
      "                      preprocessor=lambda text: re.sub('[^a-zA-Z]', ' ', text.lower()), \n",
      "                      stop_words=stopwords,) \n",
      "\n",
      "\n",
      "vec_porter.fit(X_train)\n",
      "\n",
      "print('Vocabular size: %s words' % len(vec_porter.vocabulary_))\n",
      "\n",
      "vocab_1 = vec_porter.get_feature_names()\n",
      "print(vocab_1[-10:])"
     ],
     "language": "python",
     "metadata": {},
     "outputs": [
      {
       "output_type": "stream",
       "stream": "stdout",
       "text": [
        "Vocabular size: 11378 words\n",
        "['zipped', 'zippin', 'zipping', 'zippo', 'zodiac', 'zoli', 'zombie', 'zone', 'zonin', 'zoo']\n"
       ]
      }
     ],
     "prompt_number": 6
    },
    {
     "cell_type": "code",
     "collapsed": false,
     "input": [
      "# With Porter Stemming\n",
      "\n",
      "porter = PorterStemmer()\n",
      "\n",
      "vec_porter = CountVectorizer(analyzer='word',\n",
      "                      decode_error='replace',\n",
      "                      tokenizer=lambda text: [porter.stem(word) for word in text.split()],\n",
      "                      preprocessor=lambda text: re.sub('[^a-zA-Z]', ' ', text.lower()), \n",
      "                      stop_words=stopwords,) \n",
      "\n",
      "\n",
      "vec_porter.fit(X_train)\n",
      "\n",
      "print('Vocabular size: %s words' % len(vec_porter.vocabulary_))\n",
      "\n",
      "vocab_2 = vec_porter.get_feature_names()\n",
      "print(vocab_2[-10:])"
     ],
     "language": "python",
     "metadata": {},
     "outputs": [
      {
       "output_type": "stream",
       "stream": "stdout",
       "text": [
        "Vocabular size: 8551 words\n",
        "['zip', 'ziplock', 'zippin', 'zippo', 'zodiac', 'zoli', 'zombi', 'zone', 'zonin', 'zoo']\n"
       ]
      }
     ],
     "prompt_number": 7
    },
    {
     "cell_type": "markdown",
     "metadata": {},
     "source": [
      "<br>\n",
      "<br>"
     ]
    },
    {
     "cell_type": "heading",
     "level": 3,
     "metadata": {},
     "source": [
      "Whitelists of positive and negative words"
     ]
    },
    {
     "cell_type": "markdown",
     "metadata": {},
     "source": [
      "[[back to top](#Sections)]"
     ]
    },
    {
     "cell_type": "code",
     "collapsed": false,
     "input": [
      "with open('./whitelist_dicts/negative-words.txt', 'r') as w:\n",
      "    negative_words = w.read().split()\n",
      "print('number of negative words: %s' % len(negative_words))\n",
      "negative_words[-5:]"
     ],
     "language": "python",
     "metadata": {},
     "outputs": [
      {
       "output_type": "stream",
       "stream": "stdout",
       "text": [
        "number of negative words: 4783\n"
       ]
      },
      {
       "metadata": {},
       "output_type": "pyout",
       "prompt_number": 8,
       "text": [
        "['zaps', 'zealot', 'zealous', 'zealously', 'zombie']"
       ]
      }
     ],
     "prompt_number": 8
    },
    {
     "cell_type": "code",
     "collapsed": false,
     "input": [
      "with open('./whitelist_dicts/positive-words.txt', 'r') as w:\n",
      "    positive_words = w.read().split()\n",
      "print('number of positive words: %s' % len(positive_words))\n",
      "positive_words[-5:]"
     ],
     "language": "python",
     "metadata": {},
     "outputs": [
      {
       "output_type": "stream",
       "stream": "stdout",
       "text": [
        "number of positive words: 2006\n"
       ]
      },
      {
       "metadata": {},
       "output_type": "pyout",
       "prompt_number": 9,
       "text": [
        "['youthful', 'zeal', 'zenith', 'zest', 'zippy']"
       ]
      }
     ],
     "prompt_number": 9
    },
    {
     "cell_type": "code",
     "collapsed": false,
     "input": [
      "negative_words = set(negative_words)\n",
      "positive_words = set(positive_words)\n",
      "semantic_words = negative_words.union(positive_words)\n",
      "\n",
      "#pickle.dump(semantic_words, open('./whitelist_dicts/semantic_words.p', 'wb'))"
     ],
     "language": "python",
     "metadata": {},
     "outputs": [],
     "prompt_number": 10
    },
    {
     "cell_type": "markdown",
     "metadata": {},
     "source": [
      "<br>\n",
      "<br>"
     ]
    },
    {
     "cell_type": "code",
     "collapsed": false,
     "input": [
      "# With whitelist \n",
      "\n",
      "# With Porter Stemming\n",
      "from sklearn.feature_extraction.text import CountVectorizer\n",
      "from nltk.stem import PorterStemmer\n",
      "import re\n",
      "\n",
      "porter = PorterStemmer()\n",
      "\n",
      "vec_porter = CountVectorizer(analyzer='word',\n",
      "                      decode_error='replace',\n",
      "                      tokenizer=lambda text: [word for word in text.split() if word in semantic_words],\n",
      "                      preprocessor=lambda text: re.sub('[^a-zA-Z]', ' ', text.lower()), \n",
      "                      stop_words=stopwords,) \n",
      "\n",
      "\n",
      "vec_porter.fit(X_train)\n",
      "\n",
      "print('Vocabular size: %s words' % len(vec_porter.vocabulary_))\n",
      "\n",
      "vocab_3 = vec_porter.get_feature_names()\n",
      "print(vocab_3[-10:])"
     ],
     "language": "python",
     "metadata": {},
     "outputs": [
      {
       "output_type": "stream",
       "stream": "stdout",
       "text": [
        "Vocabular size: 1666 words\n",
        "['wrath', 'wreck', 'wrest', 'wrestle', 'wretched', 'wrong', 'yawn', 'yay', 'zest', 'zombie']\n"
       ]
      }
     ],
     "prompt_number": 11
    },
    {
     "cell_type": "code",
     "collapsed": false,
     "input": [
      "# With whitelist and Porter Stemming\n",
      "\n",
      "# With Porter Stemming\n",
      "from sklearn.feature_extraction.text import CountVectorizer\n",
      "from nltk.stem import PorterStemmer\n",
      "import re\n",
      "\n",
      "porter = PorterStemmer()\n",
      "\n",
      "vec_porter = CountVectorizer(analyzer='word',\n",
      "                      decode_error='replace',\n",
      "                      tokenizer=lambda text: [porter.stem(word) for word in text.split() if word in semantic_words],\n",
      "                      preprocessor=lambda text: re.sub('[^a-zA-Z]', ' ', text.lower()), \n",
      "                      stop_words=stopwords,) \n",
      "\n",
      "\n",
      "vec_porter.fit(X_train)\n",
      "\n",
      "print('Vocabular size: %s words' % len(vec_porter.vocabulary_))\n",
      "\n",
      "vocab_4 = vec_porter.get_feature_names()\n",
      "print(vocab_4[-10:])"
     ],
     "language": "python",
     "metadata": {},
     "outputs": [
      {
       "output_type": "stream",
       "stream": "stdout",
       "text": [
        "Vocabular size: 1349 words\n",
        "['wrath', 'wreck', 'wrest', 'wrestl', 'wretch', 'wrong', 'yawn', 'yay', 'zest', 'zombi']\n"
       ]
      }
     ],
     "prompt_number": 12
    },
    {
     "cell_type": "markdown",
     "metadata": {},
     "source": [
      "<br>\n",
      "<br>"
     ]
    },
    {
     "cell_type": "heading",
     "level": 3,
     "metadata": {},
     "source": [
      "Summary vocabulary sizes"
     ]
    },
    {
     "cell_type": "markdown",
     "metadata": {},
     "source": [
      "[[back to top](#Sections)]"
     ]
    },
    {
     "cell_type": "code",
     "collapsed": false,
     "input": [
      "print('All words: %s ' % len(vocab_1))\n",
      "print('Porter: %s ' % len(vocab_2))\n",
      "print('Whitelist: %s ' % len(vocab_3))\n",
      "print('Porter + Whitelist: %s ' % len(vocab_4))"
     ],
     "language": "python",
     "metadata": {},
     "outputs": [
      {
       "output_type": "stream",
       "stream": "stdout",
       "text": [
        "All words: 11378 \n",
        "Porter: 8551 \n",
        "Whitelist: 1666 \n",
        "Porter + Whitelist: 1349 \n"
       ]
      }
     ],
     "prompt_number": 14
    },
    {
     "cell_type": "markdown",
     "metadata": {},
     "source": [
      "<br>\n",
      "<br>"
     ]
    },
    {
     "cell_type": "markdown",
     "metadata": {},
     "source": [
      "<br>\n",
      "<br>"
     ]
    },
    {
     "cell_type": "heading",
     "level": 1,
     "metadata": {},
     "source": [
      "Model Selection"
     ]
    },
    {
     "cell_type": "markdown",
     "metadata": {},
     "source": [
      "[[back to top](#Sections)]"
     ]
    },
    {
     "cell_type": "markdown",
     "metadata": {},
     "source": [
      "<br>\n",
      "<br>"
     ]
    },
    {
     "cell_type": "heading",
     "level": 3,
     "metadata": {},
     "source": [
      "Setup"
     ]
    },
    {
     "cell_type": "markdown",
     "metadata": {},
     "source": [
      "[[back to top](#Sections)]"
     ]
    },
    {
     "cell_type": "code",
     "collapsed": false,
     "input": [
      "# Requirements\n",
      "\n",
      "from sklearn.naive_bayes import MultinomialNB\n",
      "from sklearn.naive_bayes import BernoulliNB\n",
      "from sklearn.pipeline import Pipeline\n",
      "from sklearn.feature_extraction.text import CountVectorizer\n",
      "from sklearn.feature_extraction.text import TfidfVectorizer\n",
      "from sklearn.grid_search import GridSearchCV\n",
      "from nltk.stem import PorterStemmer\n",
      "import re\n",
      "import pickle\n",
      "from sklearn import metrics\n",
      "\n",
      "porter = PorterStemmer()\n",
      "\n",
      "semantic_words = pickle.load(open('./whitelist_dicts/semantic_words.p', 'rb'))\n",
      "\n",
      "with open('./stopwords_eng.txt') as sw:\n",
      "    stop_words = sw.read().split()\n",
      "    \n",
      "f1_scorer = metrics.make_scorer(metrics.f1_score, greater_is_better=True, pos_label=0)    \n",
      "    "
     ],
     "language": "python",
     "metadata": {},
     "outputs": [],
     "prompt_number": 13
    },
    {
     "cell_type": "markdown",
     "metadata": {},
     "source": [
      "<br>\n",
      "<br>"
     ]
    },
    {
     "cell_type": "heading",
     "level": 3,
     "metadata": {},
     "source": [
      "Grid Search"
     ]
    },
    {
     "cell_type": "markdown",
     "metadata": {},
     "source": [
      "[[back to top](#Sections)]"
     ]
    },
    {
     "cell_type": "code",
     "collapsed": false,
     "input": [
      "from nltk.stem.porter import PorterStemmer\n",
      "from nltk.stem.snowball import EnglishStemmer\n",
      "\n",
      "porter = PorterStemmer()\n",
      "snowball = EnglishStemmer()\n",
      "\n",
      "# raw words\n",
      "tokenizer = lambda text: text.split()\n",
      "\n",
      "# words after Porter stemming \n",
      "tokenizer_porter = lambda text: [porter.stem(word) for word in text.split()]\n",
      "\n",
      "# Words after Snowball stemming\n",
      "tokenizer_snowball = lambda text: [snowball.stem(word) for word in text.split()]\n",
      "\n",
      "# Only words that are in a list of 'positive' or 'negative' words ('whitelist')\n",
      "# http://www.cs.uic.edu/~liub/FBS/sentiment-analysis.html#lexicon\n",
      "tokenizer_whitelist = lambda text: [word for word in text.split() if word in semantic_words]\n",
      "\n",
      "# Porter-stemmed words in whitelist\n",
      "tokenizer_porter_wl = lambda text: [porter.stem(word) for word in text.split() if word in semantic_words]\n",
      "\n",
      "# Snowball-stemmed words in whitelist\n",
      "tokenizer_snowball_wl = lambda text: [snowball.stem(word) for word in text.split() if word in semantic_words]"
     ],
     "language": "python",
     "metadata": {},
     "outputs": [],
     "prompt_number": 14
    },
    {
     "cell_type": "code",
     "collapsed": false,
     "input": [
      "pipeline_1 = Pipeline([\n",
      "    ('vect', CountVectorizer(binary=False,\n",
      "                             stop_words=stop_words,\n",
      "                             ngram_range=(1,1),\n",
      "                             preprocessor=lambda text: re.sub('[^a-zA-Z]', ' ', text.lower()),\n",
      "                             )),\n",
      "    ('clf', MultinomialNB(fit_prior=False, \n",
      "                          alpha=1.0))\n",
      "])\n",
      "\n",
      "parameters_1 = dict(\n",
      "    vect__tokenizer=[tokenizer, tokenizer_porter, tokenizer_whitelist, tokenizer_porter_wl],\n",
      ")\n",
      "\n",
      "grid_search_1 = GridSearchCV(pipeline_1, \n",
      "                           parameters_1, \n",
      "                           n_jobs=1, \n",
      "                           verbose=1,\n",
      "                           scoring=f1_scorer,\n",
      "                           cv=10\n",
      "                )\n",
      "\n",
      "\n",
      "print(\"Performing grid search...\")\n",
      "print(\"pipeline:\", [name for name, _ in pipeline_1.steps])\n",
      "grid_search_1.fit(X_train, y_train)\n",
      "print(\"Best score: %0.3f\" % grid_search_1.best_score_)\n",
      "print(\"Best parameters set:\")\n",
      "best_parameters_1 = grid_search_1.best_estimator_.get_params()\n",
      "for param_name in sorted(parameters_1.keys()):\n",
      "    print(\"\\t%s: %r\" % (param_name, best_parameters_1[param_name]))"
     ],
     "language": "python",
     "metadata": {},
     "outputs": [
      {
       "output_type": "stream",
       "stream": "stderr",
       "text": [
        "[Parallel(n_jobs=1)]: Done   1 jobs       | elapsed:    1.2s\n",
        "[Parallel(n_jobs=1)]: Done  40 out of  40 | elapsed:  1.2min finished\n"
       ]
      },
      {
       "output_type": "stream",
       "stream": "stdout",
       "text": [
        "Performing grid search...\n",
        "pipeline: ['vect', 'clf']\n",
        "Fitting 10 folds for each of 4 candidates, totalling 40 fits\n",
        "Best score: 0.632"
       ]
      },
      {
       "output_type": "stream",
       "stream": "stdout",
       "text": [
        "\n",
        "Best parameters set:\n",
        "\tvect__tokenizer: <function <lambda> at 0x10a4d2f28>\n"
       ]
      }
     ],
     "prompt_number": 86
    },
    {
     "cell_type": "code",
     "collapsed": false,
     "input": [
      "pipeline_2 = Pipeline([\n",
      "    ('vect', TfidfVectorizer(binary=False,\n",
      "                             stop_words=stop_words,\n",
      "                             ngram_range=(1,1),\n",
      "                             preprocessor=lambda text: re.sub('[^a-zA-Z]', ' ', text.lower()),\n",
      "                             )),\n",
      "    ('clf', MultinomialNB(fit_prior=False, \n",
      "                          alpha=1.0))\n",
      "])\n",
      "\n",
      "parameters_2 = dict(\n",
      "    vect__tokenizer=[tokenizer, tokenizer_porter, tokenizer_whitelist, tokenizer_porter_wl],\n",
      ")\n",
      "\n",
      "grid_search_2 = GridSearchCV(pipeline_2, \n",
      "                           parameters_2, \n",
      "                           n_jobs=1, \n",
      "                           verbose=1,\n",
      "                           scoring=f1_scorer,\n",
      "                           cv=10\n",
      "                )\n",
      "\n",
      "\n",
      "print(\"Performing grid search...\")\n",
      "print(\"pipeline:\", [name for name, _ in pipeline_2.steps])\n",
      "grid_search_2.fit(X_train, y_train)\n",
      "print(\"Best score: %0.3f\" % grid_search_2.best_score_)\n",
      "print(\"Best parameters set:\")\n",
      "best_parameters_2 = grid_search_2.best_estimator_.get_params()\n",
      "for param_name in sorted(parameters_2.keys()):\n",
      "    print(\"\\t%s: %r\" % (param_name, best_parameters_1[param_name]))"
     ],
     "language": "python",
     "metadata": {},
     "outputs": [
      {
       "output_type": "stream",
       "stream": "stderr",
       "text": [
        "[Parallel(n_jobs=1)]: Done   1 jobs       | elapsed:    1.0s\n",
        "[Parallel(n_jobs=1)]: Done  40 out of  40 | elapsed:  1.0min finished\n"
       ]
      },
      {
       "output_type": "stream",
       "stream": "stdout",
       "text": [
        "Performing grid search...\n",
        "pipeline: ['vect', 'clf']\n",
        "Fitting 10 folds for each of 4 candidates, totalling 40 fits\n",
        "Best score: 0.606"
       ]
      },
      {
       "output_type": "stream",
       "stream": "stdout",
       "text": [
        "\n",
        "Best parameters set:\n",
        "\tvect__tokenizer: <function <lambda> at 0x10a4d2f28>\n"
       ]
      }
     ],
     "prompt_number": 87
    },
    {
     "cell_type": "markdown",
     "metadata": {},
     "source": [
      "<br>\n",
      "<br>"
     ]
    },
    {
     "cell_type": "heading",
     "level": 3,
     "metadata": {},
     "source": [
      "ROC Curves"
     ]
    },
    {
     "cell_type": "markdown",
     "metadata": {},
     "source": [
      "[[back to top](#Sections)]"
     ]
    },
    {
     "cell_type": "code",
     "collapsed": false,
     "input": [
      "from sklearn.metrics import roc_curve, auc\n",
      "import seaborn as sns\n",
      "import matplotlib.pyplot as plt\n",
      "%matplotlib inline\n",
      "from sklearn.cross_validation import StratifiedKFold\n",
      "from scipy import interp\n",
      "\n",
      "sns.set()\n",
      "sns.set_style(\"whitegrid\")\n",
      "\n",
      "vect_1 = CountVectorizer(binary=False,\n",
      "                         stop_words=stop_words,\n",
      "                         ngram_range=(1,1),\n",
      "                         preprocessor=lambda text: re.sub('[^a-zA-Z]', ' ', text.lower()),\n",
      "                         tokenizer=tokenizer)\n",
      "\n",
      "vect_2 = CountVectorizer(binary=False,\n",
      "                         stop_words=stop_words,\n",
      "                         ngram_range=(1,1),\n",
      "                         preprocessor=lambda text: re.sub('[^a-zA-Z]', ' ', text.lower()),\n",
      "                         tokenizer=tokenizer_porter)\n",
      "    \n",
      "vect_3 = CountVectorizer(binary=False,\n",
      "                         stop_words=stop_words,\n",
      "                         ngram_range=(1,1),\n",
      "                         preprocessor=lambda text: re.sub('[^a-zA-Z]', ' ', text.lower()),\n",
      "                         tokenizer=tokenizer_snowball)  \n",
      "\n",
      "vect_4 = CountVectorizer(binary=False,\n",
      "                         stop_words=stop_words,\n",
      "                         ngram_range=(1,1),\n",
      "                         preprocessor=lambda text: re.sub('[^a-zA-Z]', ' ', text.lower()),\n",
      "                         tokenizer=tokenizer_whitelist)  \n",
      "\n",
      "vect_5 = CountVectorizer(binary=False,\n",
      "                         stop_words=stop_words,\n",
      "                         ngram_range=(1,1),\n",
      "                         preprocessor=lambda text: re.sub('[^a-zA-Z]', ' ', text.lower()),\n",
      "                         tokenizer=tokenizer_porter_wl)\n",
      "\n",
      "vect_6 = CountVectorizer(binary=False,\n",
      "                         stop_words=stop_words,\n",
      "                         ngram_range=(1,1),\n",
      "                         preprocessor=lambda text: re.sub('[^a-zA-Z]', ' ', text.lower()),\n",
      "                         tokenizer=tokenizer_snowball_wl)\n",
      "\n",
      "vect_7 = TfidfVectorizer(binary=False,\n",
      "                         stop_words=stop_words,\n",
      "                         ngram_range=(1,1),\n",
      "                         preprocessor=lambda text: re.sub('[^a-zA-Z]', ' ', text.lower()),\n",
      "                         tokenizer=tokenizer)\n",
      "\n",
      "vect_8 = TfidfVectorizer(binary=False,\n",
      "                         stop_words=stop_words,\n",
      "                         ngram_range=(1,1),\n",
      "                         preprocessor=lambda text: re.sub('[^a-zA-Z]', ' ', text.lower()),\n",
      "                         tokenizer=tokenizer_porter)\n",
      "    \n",
      "vect_9 = TfidfVectorizer(binary=False,\n",
      "                         stop_words=stop_words,\n",
      "                         ngram_range=(1,1),\n",
      "                         preprocessor=lambda text: re.sub('[^a-zA-Z]', ' ', text.lower()),\n",
      "                         tokenizer=tokenizer_snowball)\n",
      "\n",
      "vect_10 = TfidfVectorizer(binary=False,\n",
      "                         stop_words=stop_words,\n",
      "                         ngram_range=(1,1),\n",
      "                         preprocessor=lambda text: re.sub('[^a-zA-Z]', ' ', text.lower()),\n",
      "                         tokenizer=tokenizer_whitelist)    \n",
      "\n",
      "vect_11 = TfidfVectorizer(binary=False,\n",
      "                         stop_words=stop_words,\n",
      "                         ngram_range=(1,1),\n",
      "                         preprocessor=lambda text: re.sub('[^a-zA-Z]', ' ', text.lower()),\n",
      "                         tokenizer=tokenizer_porter_wl)\n",
      "\n",
      "vect_12 = TfidfVectorizer(binary=False,\n",
      "                         stop_words=stop_words,\n",
      "                         ngram_range=(1,1),\n",
      "                         preprocessor=lambda text: re.sub('[^a-zA-Z]', ' ', text.lower()),\n",
      "                         tokenizer=tokenizer_snowball_wl)\n",
      "\n",
      "pipelines = []\n",
      "vectorizers = [vect_1, vect_2, vect_3, vect_4, vect_5, vect_6, vect_7, vect_8, vect_9, vect_10, vect_11, vect_12]\n",
      "for v in vectorizers:\n",
      "    pipelines.append(Pipeline([('vect', v),\n",
      "                               ('clf', MultinomialNB(fit_prior=False, alpha=1.0))]))\n",
      "    \n",
      "for v in vectorizers[:6]:\n",
      "    pipelines.append(Pipeline([('vect', v),\n",
      "                               ('clf', BernoulliNB(fit_prior=False, alpha=1.0))]))"
     ],
     "language": "python",
     "metadata": {},
     "outputs": [],
     "prompt_number": 15
    },
    {
     "cell_type": "code",
     "collapsed": false,
     "input": [
      "colors = ['blue', 'red', 'black', 'green', 'cyan', 'magenta']\n",
      "linestyles = ['-', '--', '-.', ':', '-', '--']\n",
      "classifiers = [pipelines[i] for i in range(6)]\n",
      "labels = ['1: all words', \n",
      "          '2: porter stemmer',\n",
      "          '3: snowball stemmer',\n",
      "          '4: whitelist',\n",
      "          '5: porter stemmer + whitelist',\n",
      "          '6: snowball stemmer + whitelist',\n",
      "          ]\n",
      "\n",
      "for clf,col,ls,lab in zip(classifiers, colors, linestyles, labels):\n",
      "    \n",
      "    mean_tpr = 0.0\n",
      "    mean_fpr = np.linspace(0, 1, 100)\n",
      "    all_tpr = []\n",
      "    cv = StratifiedKFold(y_train, n_folds=10, random_state=123)\n",
      "\n",
      "    for i, (train, test) in enumerate(cv):\n",
      "        probas_ = clf.fit(X_train[train], y_train[train]).predict_proba(X_train[test])\n",
      "        # Compute ROC curve and area the curve\n",
      "        fpr, tpr, thresholds = roc_curve(y_train[test], probas_[:, 1])\n",
      "        mean_tpr += interp(mean_fpr, fpr, tpr)\n",
      "        mean_tpr[0] = 0.0\n",
      "        roc_auc = auc(fpr, tpr)\n",
      "\n",
      "    mean_tpr /= len(cv)\n",
      "    mean_tpr[-1] = 1.0\n",
      "    mean_auc = auc(mean_fpr, mean_tpr)\n",
      "    plt.plot(mean_fpr, \n",
      "             mean_tpr, \n",
      "             color=col, \n",
      "             linestyle=ls,\n",
      "             label='%s (ROC AUC = %0.2f)' % (lab, mean_auc), \n",
      "             lw=2\n",
      "    )\n",
      "\n",
      "plt.plot([0, 1], [0, 1], '--', color=(0.6, 0.6, 0.6), label='Random Guessing')    \n",
      "plt.xlim([-0.05, 1.05])\n",
      "plt.ylim([-0.05, 1.05])\n",
      "plt.xlabel('False Positive Rate')\n",
      "plt.ylabel('True Positive Rate')\n",
      "plt.legend(loc=\"lower right\")\n",
      "plt.title('CounterVectorizer')\n",
      "plt.tight_layout()\n",
      "plt.savefig('./nb_whitelist_model_images/roc_gridsearch_1.eps', dpi=300)\n",
      "plt.show()\n",
      "\n"
     ],
     "language": "python",
     "metadata": {},
     "outputs": [
      {
       "metadata": {},
       "output_type": "display_data",
       "png": "[encoded data removed]",
       "text": [
        "<matplotlib.figure.Figure at 0x10b0bd390>"
       ]
      }
     ],
     "prompt_number": 17
    },
    {
     "cell_type": "code",
     "collapsed": false,
     "input": [
      "colors = ['blue', 'red', 'black', 'green', 'cyan', 'magenta']\n",
      "linestyles = ['-', '--', '-.', ':', '-', '--']\n",
      "classifiers = [pipelines[i] for i in range(6,12)]\n",
      "labels = ['1: all words', \n",
      "          '2: porter stemmer',\n",
      "          '3: snowball stemmer',\n",
      "          '4: whitelist',\n",
      "          '5: porter stemmer + whitelist',\n",
      "          '6: snowball stemmer + whitelist',\n",
      "          ]\n",
      "\n",
      "for clf,col,ls,lab in zip(classifiers, colors, linestyles, labels):\n",
      "    \n",
      "    mean_tpr = 0.0\n",
      "    mean_fpr = np.linspace(0, 1, 100)\n",
      "    all_tpr = []\n",
      "    cv = StratifiedKFold(y_train, n_folds=10, random_state=123)\n",
      "\n",
      "    for i, (train, test) in enumerate(cv):\n",
      "        probas_ = clf.fit(X_train[train], y_train[train]).predict_proba(X_train[test])\n",
      "        # Compute ROC curve and area the curve\n",
      "        fpr, tpr, thresholds = roc_curve(y_train[test], probas_[:, 1])\n",
      "        mean_tpr += interp(mean_fpr, fpr, tpr)\n",
      "        mean_tpr[0] = 0.0\n",
      "        roc_auc = auc(fpr, tpr)\n",
      "\n",
      "    mean_tpr /= len(cv)\n",
      "    mean_tpr[-1] = 1.0\n",
      "    mean_auc = auc(mean_fpr, mean_tpr)\n",
      "    plt.plot(mean_fpr, \n",
      "             mean_tpr, \n",
      "             color=col, \n",
      "             linestyle=ls,\n",
      "             label='%s (ROC AUC = %0.2f)' % (lab, mean_auc), \n",
      "             lw=2\n",
      "    )\n",
      "\n",
      "plt.plot([0, 1], [0, 1], '--', color=(0.6, 0.6, 0.6), label='Random Guessing')    \n",
      "plt.xlim([-0.05, 1.05])\n",
      "plt.ylim([-0.05, 1.05])\n",
      "plt.xlabel('False Positive Rate')\n",
      "plt.ylabel('True Positive Rate')\n",
      "plt.legend(loc=\"lower right\")\n",
      "plt.title('TfidfVectorizer')\n",
      "plt.tight_layout()\n",
      "plt.savefig('./nb_whitelist_model_images/roc_gridsearch_2.eps', dpi=300)\n",
      "plt.show()\n",
      "\n",
      "\n"
     ],
     "language": "python",
     "metadata": {},
     "outputs": [
      {
       "metadata": {},
       "output_type": "display_data",
       "png": "[encoded data removed]",
       "text": [
        "<matplotlib.figure.Figure at 0x10b9ad0f0>"
       ]
      }
     ],
     "prompt_number": 18
    },
    {
     "cell_type": "code",
     "collapsed": false,
     "input": [
      "colors = ['blue', 'red', 'black', 'green', 'cyan', 'magenta']\n",
      "linestyles = ['-', '--', '-.', ':', '-', '--']\n",
      "classifiers = [pipelines[i] for i in range(12,18)]\n",
      "labels = ['1: all words', \n",
      "          '2: porter stemmer',\n",
      "          '3: snowball stemmer',\n",
      "          '4: whitelist',\n",
      "          '5: porter stemmer + whitelist',\n",
      "          '6: snowball stemmer + whitelist',\n",
      "          ]\n",
      "\n",
      "plt.figure(figsize=(8,6))\n",
      "for clf,col,ls,lab in zip(classifiers, colors, linestyles, labels):\n",
      "    \n",
      "    mean_tpr = 0.0\n",
      "    mean_fpr = np.linspace(0, 1, 100)\n",
      "    all_tpr = []\n",
      "    cv = StratifiedKFold(y_train, n_folds=10, random_state=123)\n",
      "\n",
      "    for i, (train, test) in enumerate(cv):\n",
      "        probas_ = clf.fit(X_train[train], y_train[train]).predict_proba(X_train[test])\n",
      "        # Compute ROC curve and area the curve\n",
      "        fpr, tpr, thresholds = roc_curve(y_train[test], probas_[:, 1])\n",
      "        mean_tpr += interp(mean_fpr, fpr, tpr)\n",
      "        mean_tpr[0] = 0.0\n",
      "        roc_auc = auc(fpr, tpr)\n",
      "\n",
      "    mean_tpr /= len(cv)\n",
      "    mean_tpr[-1] = 1.0\n",
      "    mean_auc = auc(mean_fpr, mean_tpr)\n",
      "    plt.plot(mean_fpr, \n",
      "             mean_tpr, \n",
      "             color=col, \n",
      "             linestyle=ls,\n",
      "             label='%s (ROC AUC = %0.2f)' % (lab, mean_auc), \n",
      "             lw=2\n",
      "    )\n",
      "\n",
      "\n",
      "plt.plot([0, 1], [0, 1], '--', color=(0.6, 0.6, 0.6), label='Random Guessing')    \n",
      "plt.xlim([-0.05, 1.05])\n",
      "plt.ylim([-0.05, 1.05])\n",
      "plt.xlabel('False Positive Rate')\n",
      "plt.ylabel('True Positive Rate')\n",
      "plt.legend(loc=\"lower right\")\n",
      "plt.title('Bernoulli')\n",
      "plt.tight_layout()\n",
      "plt.savefig('./nb_whitelist_model_images/roc_gridsearch_3.eps', dpi=300)\n",
      "plt.show()\n",
      "\n"
     ],
     "language": "python",
     "metadata": {},
     "outputs": [
      {
       "metadata": {},
       "output_type": "display_data",
       "png": "[encoded data removed]",
       "text": [
        "<matplotlib.figure.Figure at 0x10b698710>"
       ]
      }
     ],
     "prompt_number": 31
    },
    {
     "cell_type": "code",
     "collapsed": false,
     "input": [
      "from sklearn.metrics import roc_curve, auc\n",
      "import seaborn as sns\n",
      "import matplotlib.pyplot as plt\n",
      "%matplotlib inline\n",
      "from sklearn.cross_validation import StratifiedKFold\n",
      "from scipy import interp\n",
      "\n",
      "sns.set()\n",
      "sns.set_style(\"whitegrid\")\n",
      "\n",
      "classifier = pipelines[7] # Tfidf + porter\n",
      "\n",
      "\n",
      "cv = StratifiedKFold(y_train, n_folds=10, random_state=123)\n",
      "\n",
      "mean_tpr = 0.0\n",
      "mean_fpr = np.linspace(0, 1, 100)\n",
      "all_tpr = []\n",
      "\n",
      "for i, (train, test) in enumerate(cv):\n",
      "    probas_ = classifier.fit(X_train[train], y_train[train]).predict_proba(X_train[test])\n",
      "    # Compute ROC curve and area the curve\n",
      "    fpr, tpr, thresholds = roc_curve(y_train[test], probas_[:, 1])\n",
      "    mean_tpr += interp(mean_fpr, fpr, tpr)\n",
      "    mean_tpr[0] = 0.0\n",
      "    roc_auc = auc(fpr, tpr)\n",
      "    plt.plot(fpr, tpr, lw=1, label='ROC fold %d (area = %0.2f)' % (i+1, roc_auc))\n",
      "\n",
      "plt.plot([0, 1], [0, 1], '--', color=(0.6, 0.6, 0.6), label='Random Guessing')\n",
      "\n",
      "mean_tpr /= len(cv)\n",
      "mean_tpr[-1] = 1.0\n",
      "mean_auc = auc(mean_fpr, mean_tpr)\n",
      "plt.plot(mean_fpr, mean_tpr, 'k--',\n",
      "         label='Mean ROC (area = %0.2f)' % mean_auc, lw=2)\n",
      "\n",
      "plt.xlim([-0.05, 1.05])\n",
      "plt.ylim([-0.05, 1.05])\n",
      "plt.xlabel('False Positive Rate')\n",
      "plt.ylabel('True Positive Rate')\n",
      "plt.title('Receiver Operator Characteristic of the Lyrics Classifier')\n",
      "plt.legend(loc=\"lower right\")\n",
      "plt.savefig('./nb_whitelist_model_images/roc_final.eps', dpi=300)\n",
      "plt.show()"
     ],
     "language": "python",
     "metadata": {},
     "outputs": [
      {
       "metadata": {},
       "output_type": "display_data",
       "png": "[encoded data removed]",
       "text": [
        "<matplotlib.figure.Figure at 0x10b3554a8>"
       ]
      }
     ],
     "prompt_number": 20
    },
    {
     "cell_type": "code",
     "collapsed": false,
     "input": [
      "colors = ['blue', 'red', 'black', 'green', 'cyan', 'magenta']\n",
      "linestyles = ['-', '--', '-.', ':', '-', '--']\n",
      "classifiers = [pipelines[12], pipelines[0], pipelines[6]]\n",
      "labels = ['1: BNB', \n",
      "          '2: MNB Tf',\n",
      "          '3: MNB Tfidf',\n",
      "          ]\n",
      "\n",
      "plt.figure(figsize=(8,6))\n",
      "\n",
      "for clf,col,ls,lab in zip(classifiers, colors, linestyles, labels):\n",
      "    \n",
      "    mean_tpr = 0.0\n",
      "    mean_fpr = np.linspace(0, 1, 100)\n",
      "    all_tpr = []\n",
      "    cv = StratifiedKFold(y_train, n_folds=10, random_state=123)\n",
      "\n",
      "    for i, (train, test) in enumerate(cv):\n",
      "        probas_ = clf.fit(X_train[train], y_train[train]).predict_proba(X_train[test])\n",
      "        # Compute ROC curve and area the curve\n",
      "        fpr, tpr, thresholds = roc_curve(y_train[test], probas_[:, 1])\n",
      "        mean_tpr += interp(mean_fpr, fpr, tpr)\n",
      "        mean_tpr[0] = 0.0\n",
      "        roc_auc = auc(fpr, tpr)\n",
      "\n",
      "    mean_tpr /= len(cv)\n",
      "    mean_tpr[-1] = 1.0\n",
      "    mean_auc = auc(mean_fpr, mean_tpr)\n",
      "    plt.plot(mean_fpr, \n",
      "             mean_tpr, \n",
      "             color=col, \n",
      "             linestyle=ls,\n",
      "             label='%s (ROC AUC = %0.2f)' % (lab, mean_auc), \n",
      "             lw=2\n",
      "    )\n",
      "\n",
      "plt.plot([0, 1], [0, 1], '--', color=(0.6, 0.6, 0.6), label='Random Guessing')    \n",
      "plt.xlim([-0.05, 1.05])\n",
      "plt.ylim([-0.05, 1.05])\n",
      "plt.xlabel('False Positive Rate')\n",
      "plt.ylabel('True Positive Rate')\n",
      "plt.legend(loc=\"lower right\")\n",
      "plt.title('Different Naive Bayes Models')\n",
      "plt.tight_layout()\n",
      "plt.savefig('./nb_whitelist_model_images/roc_different_nb.eps', dpi=300)\n",
      "plt.show()"
     ],
     "language": "python",
     "metadata": {},
     "outputs": [
      {
       "metadata": {},
       "output_type": "display_data",
       "png": "[encoded data removed]",
       "text": [
        "<matplotlib.figure.Figure at 0x10b634320>"
       ]
      }
     ],
     "prompt_number": 33
    },
    {
     "cell_type": "markdown",
     "metadata": {},
     "source": [
      "<br>\n",
      "<br>"
     ]
    },
    {
     "cell_type": "markdown",
     "metadata": {},
     "source": [
      "<br>\n",
      "<br>"
     ]
    },
    {
     "cell_type": "heading",
     "level": 1,
     "metadata": {},
     "source": [
      "Validation"
     ]
    },
    {
     "cell_type": "markdown",
     "metadata": {},
     "source": [
      "[[back to top](#Sections)]"
     ]
    },
    {
     "cell_type": "markdown",
     "metadata": {},
     "source": [
      "<br>\n",
      "<br>"
     ]
    },
    {
     "cell_type": "heading",
     "level": 3,
     "metadata": {},
     "source": [
      "Confusion matrix"
     ]
    },
    {
     "cell_type": "markdown",
     "metadata": {},
     "source": [
      "[[back to top](#Sections)]"
     ]
    },
    {
     "cell_type": "code",
     "collapsed": false,
     "input": [
      "import matplotlib as mpl\n",
      "import numpy as np\n",
      "\n",
      "def plot_cm(X, y, clf, title, dest):\n",
      "\n",
      "    cm = metrics.confusion_matrix(y, clf.predict(X))\n",
      "\n",
      "    np.set_printoptions(suppress=True)\n",
      "    mpl.rc(\"figure\", figsize=(4, 2))\n",
      "\n",
      "    hm = sns.heatmap(cm, \n",
      "            cbar=False,\n",
      "            annot=True, \n",
      "            square=True,\n",
      "            fmt='d',\n",
      "            yticklabels=['happy','sad'],\n",
      "            xticklabels=['happy','sad'],\n",
      "            cmap='Blues'\n",
      "            )\n",
      "    plt.title(title)\n",
      "    plt.ylabel('actual class')\n",
      "    plt.xlabel('predicted class')\n",
      "    plt.tight_layout()\n",
      "    plt.savefig(dest, dpi=300)\n",
      "    plt.show()"
     ],
     "language": "python",
     "metadata": {},
     "outputs": [],
     "prompt_number": 21
    },
    {
     "cell_type": "code",
     "collapsed": false,
     "input": [
      "clf = pipelines[7] # Tfidf + porter\n",
      "\n",
      "clf.fit(X_train, y_train)\n",
      "\n",
      "plot_cm(X_train, y_train, clf, 'Training - TfidfVectorizer Porter', './nb_whitelist_model_images/confmat_tfidf_porter_train.eps')"
     ],
     "language": "python",
     "metadata": {},
     "outputs": [
      {
       "metadata": {},
       "output_type": "display_data",
       "png": "[encoded data removed]",
       "text": [
        "<matplotlib.figure.Figure at 0x10c00b240>"
       ]
      }
     ],
     "prompt_number": 22
    },
    {
     "cell_type": "code",
     "collapsed": false,
     "input": [
      "plot_cm(X_test, y_test, clf, 'Test - TfidfVectorizer Porter', './nb_whitelist_model_images/confmat_tfidf_porter_test.eps')"
     ],
     "language": "python",
     "metadata": {},
     "outputs": [
      {
       "metadata": {},
       "output_type": "display_data",
       "png": "[encoded data removed]",
       "text": [
        "<matplotlib.figure.Figure at 0x10bf520b8>"
       ]
      }
     ],
     "prompt_number": 23
    },
    {
     "cell_type": "markdown",
     "metadata": {},
     "source": [
      "<br>\n",
      "<br>"
     ]
    },
    {
     "cell_type": "heading",
     "level": 3,
     "metadata": {},
     "source": [
      "ROC AUC, Accuracy, Precision, Recall, and F1-score"
     ]
    },
    {
     "cell_type": "markdown",
     "metadata": {},
     "source": [
      "[[back to top](#Sections)]"
     ]
    },
    {
     "cell_type": "code",
     "collapsed": false,
     "input": [
      "from sklearn.naive_bayes import BernoulliNB"
     ],
     "language": "python",
     "metadata": {},
     "outputs": [],
     "prompt_number": 16
    },
    {
     "cell_type": "code",
     "collapsed": false,
     "input": [
      "# Custom scorer methods to account for positive-negative class labels\n",
      "\n",
      "from sklearn import metrics\n",
      "\n",
      "# `pos_label` for positive class, since we have sad=1, happy=0\n",
      "\n",
      "acc_scorer = metrics.make_scorer(metrics.accuracy_score, greater_is_better=True)\n",
      "pre_scorer = metrics.make_scorer(metrics.precision_score, greater_is_better=True, pos_label=0)\n",
      "rec_scorer = metrics.make_scorer(metrics.recall_score, greater_is_better=True, pos_label=0)\n",
      "f1_scorer = metrics.make_scorer(metrics.f1_score, greater_is_better=True, pos_label=0)\n",
      "auc_scorer = metrics.make_scorer(metrics.roc_auc_score, greater_is_better=True)"
     ],
     "language": "python",
     "metadata": {},
     "outputs": [],
     "prompt_number": 18
    },
    {
     "cell_type": "code",
     "collapsed": false,
     "input": [
      "\n",
      "labels = ['BNB Training', 'BNB Training porter', 'BNB Training wl', 'BNB Training porter+wl',\n",
      "          'MNB Training-CountVec', 'MNB Training-CountVec porter', 'MNB Training-CountVec wl', 'MNB Training-CountVec porter+wl',\n",
      "          'MNB Training-TfidfVec', 'MNB Training-TfidfVec porter', 'MNB Training-TfidfVec wl', 'MNB Training-TfidfVec porter+wl',\n",
      "          'BNB Test', 'BNB Test porter', 'BNB Test wl', 'BNB Test porter+wl',\n",
      "          'MNB Test-CountVec', 'MNB Test-CountVec porter', 'MNB Test-CountVec wl', 'MNB Test-CountVec porter+wl',\n",
      "          'MNB Test-TfidfVec', 'MNB Test-TfidfVec porter', 'MNB Test-TfidfVec wl', 'MNB Test-TfidfVec porter+wl'\n",
      "          ]\n",
      "\n",
      "d = {'Data':labels,\n",
      "     'ACC (%)':[],\n",
      "     'PRE (%)':[],\n",
      "     'REC (%)':[],\n",
      "     'F1 (%)':[],\n",
      "     'ROC AUC (%)':[],\n",
      "}\n",
      "\n",
      "\n",
      "for clf in [clf_9, clf_10, clf_11, clf_12, clf_1, clf_2, clf_3, clf_4, clf_5, clf_6, clf_7, clf_8]:\n",
      "    clf.fit(X_train, y_train)\n",
      "\n",
      "for clf in [clf_9, clf_10, clf_11, clf_12, clf_1, clf_2, clf_3, clf_4, clf_5, clf_6, clf_7, clf_8]:\n",
      "\n",
      "    d['ACC (%)'].append(acc_scorer(estimator=clf, X=X_train, y_true=y_train))\n",
      "    d['PRE (%)'].append(pre_scorer(estimator=clf, X=X_train, y_true=y_train))\n",
      "    d['REC (%)'].append(rec_scorer(estimator=clf, X=X_train, y_true=y_train))\n",
      "    d['F1 (%)'].append(f1_scorer(estimator=clf, X=X_train, y_true=y_train))\n",
      "    d['ROC AUC (%)'].append(auc_scorer(estimator=clf, X=X_train, y_true=y_train))\n",
      "\n",
      "for clf in [clf_9, clf_10, clf_11, clf_12, clf_1, clf_2, clf_3, clf_4, clf_5, clf_6, clf_7, clf_8]:  \n",
      "\n",
      "    d['ACC (%)'].append(acc_scorer(estimator=clf, X=X_test, y_true=y_test))\n",
      "    d['PRE (%)'].append(pre_scorer(estimator=clf, X=X_test, y_true=y_test))\n",
      "    d['REC (%)'].append(rec_scorer(estimator=clf, X=X_test, y_true=y_test))\n",
      "    d['F1 (%)'].append(f1_scorer(estimator=clf, X=X_test, y_true=y_test))\n",
      "    d['ROC AUC (%)'].append(auc_scorer(estimator=clf, X=X_test, y_true=y_test))"
     ],
     "language": "python",
     "metadata": {},
     "outputs": [],
     "prompt_number": 20
    },
    {
     "cell_type": "code",
     "collapsed": false,
     "input": [
      "pd.set_option('precision', 2)\n",
      "\n",
      "df_perform = pd.DataFrame(d)\n",
      "df_perform = df_perform[['ACC (%)', 'PRE (%)', 'REC (%)', 'F1 (%)', 'ROC AUC (%)']]\n",
      "df_perform.index=(labels)\n",
      "df_perform = df_perform*100\n",
      "df_perform = np.round(df_perform, decimals=2)\n",
      "df_perform"
     ],
     "language": "python",
     "metadata": {},
     "outputs": [
      {
       "html": [
        "<div style=\"max-height:1000px;max-width:1500px;overflow:auto;\">\n",
        "<table border=\"1\" class=\"dataframe\">\n",
        "  <thead>\n",
        "    <tr style=\"text-align: right;\">\n",
        "      <th></th>\n",
        "      <th>ACC (%)</th>\n",
        "      <th>PRE (%)</th>\n",
        "      <th>REC (%)</th>\n",
        "      <th>F1 (%)</th>\n",
        "      <th>ROC AUC (%)</th>\n",
        "    </tr>\n",
        "  </thead>\n",
        "  <tbody>\n",
        "    <tr>\n",
        "      <th>BNB Training</th>\n",
        "      <td> 96.5</td>\n",
        "      <td> 93.8</td>\n",
        "      <td> 98.7</td>\n",
        "      <td> 96.2</td>\n",
        "      <td> 96.7</td>\n",
        "    </tr>\n",
        "    <tr>\n",
        "      <th>BNB Training porter</th>\n",
        "      <td> 93.4</td>\n",
        "      <td> 89.3</td>\n",
        "      <td> 96.9</td>\n",
        "      <td> 92.9</td>\n",
        "      <td> 93.7</td>\n",
        "    </tr>\n",
        "    <tr>\n",
        "      <th>BNB Training wl</th>\n",
        "      <td> 81.1</td>\n",
        "      <td> 72.1</td>\n",
        "      <td> 94.0</td>\n",
        "      <td> 81.6</td>\n",
        "      <td> 82.3</td>\n",
        "    </tr>\n",
        "    <tr>\n",
        "      <th>BNB Training porter+wl</th>\n",
        "      <td> 78.8</td>\n",
        "      <td> 70.0</td>\n",
        "      <td> 91.9</td>\n",
        "      <td> 79.5</td>\n",
        "      <td> 80.1</td>\n",
        "    </tr>\n",
        "    <tr>\n",
        "      <th>MNB Training-CountVec</th>\n",
        "      <td> 95.7</td>\n",
        "      <td> 94.1</td>\n",
        "      <td> 96.4</td>\n",
        "      <td> 95.2</td>\n",
        "      <td> 95.8</td>\n",
        "    </tr>\n",
        "    <tr>\n",
        "      <th>MNB Training-CountVec porter</th>\n",
        "      <td> 93.6</td>\n",
        "      <td> 92.8</td>\n",
        "      <td> 92.8</td>\n",
        "      <td> 92.8</td>\n",
        "      <td> 93.5</td>\n",
        "    </tr>\n",
        "    <tr>\n",
        "      <th>MNB Training-CountVec wl</th>\n",
        "      <td> 81.2</td>\n",
        "      <td> 75.8</td>\n",
        "      <td> 85.0</td>\n",
        "      <td> 80.1</td>\n",
        "      <td> 81.6</td>\n",
        "    </tr>\n",
        "    <tr>\n",
        "      <th>MNB Training-CountVec porter+wl</th>\n",
        "      <td> 80.5</td>\n",
        "      <td> 75.9</td>\n",
        "      <td> 82.5</td>\n",
        "      <td> 79.0</td>\n",
        "      <td> 80.7</td>\n",
        "    </tr>\n",
        "    <tr>\n",
        "      <th>MNB Training-TfidfVec</th>\n",
        "      <td> 90.5</td>\n",
        "      <td> 99.7</td>\n",
        "      <td> 78.9</td>\n",
        "      <td> 88.1</td>\n",
        "      <td> 89.4</td>\n",
        "    </tr>\n",
        "    <tr>\n",
        "      <th>MNB Training-TfidfVec porter</th>\n",
        "      <td> 86.2</td>\n",
        "      <td> 99.0</td>\n",
        "      <td> 69.7</td>\n",
        "      <td> 81.8</td>\n",
        "      <td> 84.6</td>\n",
        "    </tr>\n",
        "    <tr>\n",
        "      <th>MNB Training-TfidfVec wl</th>\n",
        "      <td> 84.8</td>\n",
        "      <td> 82.0</td>\n",
        "      <td> 84.5</td>\n",
        "      <td> 83.2</td>\n",
        "      <td> 84.8</td>\n",
        "    </tr>\n",
        "    <tr>\n",
        "      <th>MNB Training-TfidfVec porter+wl</th>\n",
        "      <td> 83.2</td>\n",
        "      <td> 80.5</td>\n",
        "      <td> 82.3</td>\n",
        "      <td> 81.4</td>\n",
        "      <td> 83.1</td>\n",
        "    </tr>\n",
        "    <tr>\n",
        "      <th>BNB Test</th>\n",
        "      <td> 70.5</td>\n",
        "      <td> 75.0</td>\n",
        "      <td> 65.7</td>\n",
        "      <td> 70.0</td>\n",
        "      <td> 70.8</td>\n",
        "    </tr>\n",
        "    <tr>\n",
        "      <th>BNB Test porter</th>\n",
        "      <td> 70.0</td>\n",
        "      <td> 74.2</td>\n",
        "      <td> 65.7</td>\n",
        "      <td> 69.7</td>\n",
        "      <td> 70.2</td>\n",
        "    </tr>\n",
        "    <tr>\n",
        "      <th>BNB Test wl</th>\n",
        "      <td> 65.5</td>\n",
        "      <td> 65.2</td>\n",
        "      <td> 73.3</td>\n",
        "      <td> 69.1</td>\n",
        "      <td> 65.1</td>\n",
        "    </tr>\n",
        "    <tr>\n",
        "      <th>BNB Test porter+wl</th>\n",
        "      <td> 67.0</td>\n",
        "      <td> 67.0</td>\n",
        "      <td> 73.3</td>\n",
        "      <td> 70.0</td>\n",
        "      <td> 66.7</td>\n",
        "    </tr>\n",
        "    <tr>\n",
        "      <th>MNB Test-CountVec</th>\n",
        "      <td> 72.0</td>\n",
        "      <td> 78.8</td>\n",
        "      <td> 63.8</td>\n",
        "      <td> 70.5</td>\n",
        "      <td> 72.4</td>\n",
        "    </tr>\n",
        "    <tr>\n",
        "      <th>MNB Test-CountVec porter</th>\n",
        "      <td> 68.0</td>\n",
        "      <td> 76.0</td>\n",
        "      <td> 57.1</td>\n",
        "      <td> 65.2</td>\n",
        "      <td> 68.6</td>\n",
        "    </tr>\n",
        "    <tr>\n",
        "      <th>MNB Test-CountVec wl</th>\n",
        "      <td> 64.5</td>\n",
        "      <td> 66.7</td>\n",
        "      <td> 64.8</td>\n",
        "      <td> 65.7</td>\n",
        "      <td> 64.5</td>\n",
        "    </tr>\n",
        "    <tr>\n",
        "      <th>MNB Test-CountVec porter+wl</th>\n",
        "      <td> 63.5</td>\n",
        "      <td> 66.0</td>\n",
        "      <td> 62.9</td>\n",
        "      <td> 64.4</td>\n",
        "      <td> 63.5</td>\n",
        "    </tr>\n",
        "    <tr>\n",
        "      <th>MNB Test-TfidfVec</th>\n",
        "      <td> 59.5</td>\n",
        "      <td> 80.0</td>\n",
        "      <td> 30.5</td>\n",
        "      <td> 44.1</td>\n",
        "      <td> 61.0</td>\n",
        "    </tr>\n",
        "    <tr>\n",
        "      <th>MNB Test-TfidfVec porter</th>\n",
        "      <td> 60.5</td>\n",
        "      <td> 84.2</td>\n",
        "      <td> 30.5</td>\n",
        "      <td> 44.8</td>\n",
        "      <td> 62.1</td>\n",
        "    </tr>\n",
        "    <tr>\n",
        "      <th>MNB Test-TfidfVec wl</th>\n",
        "      <td> 65.5</td>\n",
        "      <td> 70.5</td>\n",
        "      <td> 59.0</td>\n",
        "      <td> 64.2</td>\n",
        "      <td> 65.8</td>\n",
        "    </tr>\n",
        "    <tr>\n",
        "      <th>MNB Test-TfidfVec porter+wl</th>\n",
        "      <td> 63.5</td>\n",
        "      <td> 68.6</td>\n",
        "      <td> 56.2</td>\n",
        "      <td> 61.8</td>\n",
        "      <td> 63.9</td>\n",
        "    </tr>\n",
        "  </tbody>\n",
        "</table>\n",
        "</div>"
       ],
       "metadata": {},
       "output_type": "pyout",
       "prompt_number": 25,
       "text": [
        "                                 ACC (%)  PRE (%)  REC (%)  F1 (%)  \\\n",
        "BNB Training                        96.5     93.8     98.7    96.2   \n",
        "BNB Training porter                 93.4     89.3     96.9    92.9   \n",
        "BNB Training wl                     81.1     72.1     94.0    81.6   \n",
        "BNB Training porter+wl              78.8     70.0     91.9    79.5   \n",
        "MNB Training-CountVec               95.7     94.1     96.4    95.2   \n",
        "MNB Training-CountVec porter        93.6     92.8     92.8    92.8   \n",
        "MNB Training-CountVec wl            81.2     75.8     85.0    80.1   \n",
        "MNB Training-CountVec porter+wl     80.5     75.9     82.5    79.0   \n",
        "MNB Training-TfidfVec               90.5     99.7     78.9    88.1   \n",
        "MNB Training-TfidfVec porter        86.2     99.0     69.7    81.8   \n",
        "MNB Training-TfidfVec wl            84.8     82.0     84.5    83.2   \n",
        "MNB Training-TfidfVec porter+wl     83.2     80.5     82.3    81.4   \n",
        "BNB Test                            70.5     75.0     65.7    70.0   \n",
        "BNB Test porter                     70.0     74.2     65.7    69.7   \n",
        "BNB Test wl                         65.5     65.2     73.3    69.1   \n",
        "BNB Test porter+wl                  67.0     67.0     73.3    70.0   \n",
        "MNB Test-CountVec                   72.0     78.8     63.8    70.5   \n",
        "MNB Test-CountVec porter            68.0     76.0     57.1    65.2   \n",
        "MNB Test-CountVec wl                64.5     66.7     64.8    65.7   \n",
        "MNB Test-CountVec porter+wl         63.5     66.0     62.9    64.4   \n",
        "MNB Test-TfidfVec                   59.5     80.0     30.5    44.1   \n",
        "MNB Test-TfidfVec porter            60.5     84.2     30.5    44.8   \n",
        "MNB Test-TfidfVec wl                65.5     70.5     59.0    64.2   \n",
        "MNB Test-TfidfVec porter+wl         63.5     68.6     56.2    61.8   \n",
        "\n",
        "                                 ROC AUC (%)  \n",
        "BNB Training                            96.7  \n",
        "BNB Training porter                     93.7  \n",
        "BNB Training wl                         82.3  \n",
        "BNB Training porter+wl                  80.1  \n",
        "MNB Training-CountVec                   95.8  \n",
        "MNB Training-CountVec porter            93.5  \n",
        "MNB Training-CountVec wl                81.6  \n",
        "MNB Training-CountVec porter+wl         80.7  \n",
        "MNB Training-TfidfVec                   89.4  \n",
        "MNB Training-TfidfVec porter            84.6  \n",
        "MNB Training-TfidfVec wl                84.8  \n",
        "MNB Training-TfidfVec porter+wl         83.1  \n",
        "BNB Test                                70.8  \n",
        "BNB Test porter                         70.2  \n",
        "BNB Test wl                             65.1  \n",
        "BNB Test porter+wl                      66.7  \n",
        "MNB Test-CountVec                       72.4  \n",
        "MNB Test-CountVec porter                68.6  \n",
        "MNB Test-CountVec wl                    64.5  \n",
        "MNB Test-CountVec porter+wl             63.5  \n",
        "MNB Test-TfidfVec                       61.0  \n",
        "MNB Test-TfidfVec porter                62.1  \n",
        "MNB Test-TfidfVec wl                    65.8  \n",
        "MNB Test-TfidfVec porter+wl             63.9  "
       ]
      }
     ],
     "prompt_number": 25
    },
    {
     "cell_type": "code",
     "collapsed": false,
     "input": [
      "df_perform.to_csv('./nb_whitelist_model_data/clf_performance.csv', index_label=False, float_format='%2.2f')"
     ],
     "language": "python",
     "metadata": {},
     "outputs": [],
     "prompt_number": 28
    },
    {
     "cell_type": "markdown",
     "metadata": {},
     "source": [
      "<br>\n",
      "<br>"
     ]
    },
    {
     "cell_type": "heading",
     "level": 2,
     "metadata": {},
     "source": [
      "Cross Validation Scores"
     ]
    },
    {
     "cell_type": "code",
     "collapsed": false,
     "input": [
      "from sklearn import metrics\n",
      "from sklearn import cross_validation\n",
      "\n",
      "# Since cross-validation, use whole dataset\n",
      "X_train = np.concatenate((X_train, X_test))\n",
      "y_train = np.concatenate((y_train, y_test))\n",
      "\n",
      "labels = ['CountVec', 'CountVec porter', 'CountVec wl', 'CountVec porter+wl',\n",
      "             'TfidfVec', 'TfidfVec porter', 'TfidfVec wl', 'TfidfVec porter+wl']\n",
      "\n",
      "d = {'Data':labels,\n",
      "     'ACC (%)':[],\n",
      "     'PRE (%)':[],\n",
      "     'REC (%)':[],\n",
      "     'F1 (%)':[],\n",
      "     'ROC AUC (%)':[],\n",
      "}\n",
      "\n",
      "for clf in [clf_1, clf_2, clf_3, clf_4, clf_5, clf_6, clf_7, clf_8]:\n",
      "    clf.fit(X_train, y_train)\n",
      "    \n",
      "   \n",
      "    scores = cross_validation.cross_val_score(estimator=clf, X=X_train, y=y_train, scoring=acc_scorer, cv=10)\n",
      "    d['ACC (%)'].append('%0.2f (+/- %0.2f)' % (scores.mean()*100, scores.std()*100))\n",
      "    \n",
      "    scores = cross_validation.cross_val_score(estimator=clf, X=X_train, y=y_train, scoring=pre_scorer, cv=10)\n",
      "    d['PRE (%)'].append('%0.2f (+/- %0.2f)' % (scores.mean()*100, scores.std()*100))\n",
      "    \n",
      "    scores = cross_validation.cross_val_score(estimator=clf, X=X_train, y=y_train, scoring=rec_scorer, cv=10)\n",
      "    d['REC (%)'].append('%0.2f (+/- %0.2f)' % (scores.mean()*100, scores.std()*100))\n",
      "    \n",
      "    scores = cross_validation.cross_val_score(estimator=clf, X=X_train, y=y_train, scoring=f1_scorer, cv=10)\n",
      "    d['F1 (%)'].append('%0.2f (+/- %0.2f)' % (scores.mean()*100, scores.std()*100))\n",
      "    \n",
      "    scores = cross_validation.cross_val_score(estimator=clf, X=X_train, y=y_train, scoring=auc_scorer, cv=10)\n",
      "    d['ROC AUC (%)'].append('%0.2f (+/- %0.2f)' % (scores.mean()*100, scores.std()*100))\n",
      "\n",
      "    "
     ],
     "language": "python",
     "metadata": {},
     "outputs": [],
     "prompt_number": 43
    },
    {
     "cell_type": "code",
     "collapsed": false,
     "input": [
      "df_perform = pd.DataFrame(d)\n",
      "df_perform = df_perform[['ACC (%)', 'PRE (%)', 'REC (%)', 'F1 (%)', 'ROC AUC (%)']]\n",
      "df_perform.index=(labels)\n",
      "df_perform"
     ],
     "language": "python",
     "metadata": {},
     "outputs": [
      {
       "html": [
        "<div style=\"max-height:1000px;max-width:1500px;overflow:auto;\">\n",
        "<table border=\"1\" class=\"dataframe\">\n",
        "  <thead>\n",
        "    <tr style=\"text-align: right;\">\n",
        "      <th></th>\n",
        "      <th>ACC (%)</th>\n",
        "      <th>PRE (%)</th>\n",
        "      <th>REC (%)</th>\n",
        "      <th>F1 (%)</th>\n",
        "      <th>ROC AUC (%)</th>\n",
        "    </tr>\n",
        "  </thead>\n",
        "  <tbody>\n",
        "    <tr>\n",
        "      <th>CountVec</th>\n",
        "      <td> 67.00 (+/- 4.07)</td>\n",
        "      <td> 65.30 (+/- 4.80)</td>\n",
        "      <td> 60.06 (+/- 6.20)</td>\n",
        "      <td> 62.48 (+/- 5.17)</td>\n",
        "      <td> 66.48 (+/- 4.16)</td>\n",
        "    </tr>\n",
        "    <tr>\n",
        "      <th>CountVec porter</th>\n",
        "      <td> 67.66 (+/- 2.76)</td>\n",
        "      <td> 66.78 (+/- 3.68)</td>\n",
        "      <td> 59.16 (+/- 6.31)</td>\n",
        "      <td> 62.54 (+/- 4.27)</td>\n",
        "      <td> 67.02 (+/- 2.89)</td>\n",
        "    </tr>\n",
        "    <tr>\n",
        "      <th>CountVec wl</th>\n",
        "      <td> 64.83 (+/- 5.30)</td>\n",
        "      <td> 60.72 (+/- 5.07)</td>\n",
        "      <td> 67.32 (+/- 8.33)</td>\n",
        "      <td> 63.63 (+/- 5.60)</td>\n",
        "      <td> 65.01 (+/- 5.26)</td>\n",
        "    </tr>\n",
        "    <tr>\n",
        "      <th>CountVec porter+wl</th>\n",
        "      <td> 66.49 (+/- 4.26)</td>\n",
        "      <td> 62.52 (+/- 4.70)</td>\n",
        "      <td> 68.41 (+/- 7.88)</td>\n",
        "      <td> 65.09 (+/- 4.93)</td>\n",
        "      <td> 66.64 (+/- 4.26)</td>\n",
        "    </tr>\n",
        "    <tr>\n",
        "      <th>TfidfVec</th>\n",
        "      <td> 67.75 (+/- 4.18)</td>\n",
        "      <td> 76.67 (+/- 6.99)</td>\n",
        "      <td> 42.63 (+/- 7.36)</td>\n",
        "      <td> 54.56 (+/- 7.41)</td>\n",
        "      <td> 65.85 (+/- 4.39)</td>\n",
        "    </tr>\n",
        "    <tr>\n",
        "      <th>TfidfVec porter</th>\n",
        "      <td> 67.09 (+/- 4.30)</td>\n",
        "      <td> 78.91 (+/- 6.08)</td>\n",
        "      <td> 38.47 (+/- 9.51)</td>\n",
        "      <td> 51.13 (+/- 9.57)</td>\n",
        "      <td> 64.92 (+/- 4.69)</td>\n",
        "    </tr>\n",
        "    <tr>\n",
        "      <th>TfidfVec wl</th>\n",
        "      <td> 64.41 (+/- 3.93)</td>\n",
        "      <td> 61.30 (+/- 4.08)</td>\n",
        "      <td> 61.70 (+/- 6.78)</td>\n",
        "      <td> 61.32 (+/- 4.52)</td>\n",
        "      <td> 64.21 (+/- 3.94)</td>\n",
        "    </tr>\n",
        "    <tr>\n",
        "      <th>TfidfVec porter+wl</th>\n",
        "      <td> 66.75 (+/- 3.73)</td>\n",
        "      <td> 63.76 (+/- 4.15)</td>\n",
        "      <td> 64.61 (+/- 7.09)</td>\n",
        "      <td> 63.96 (+/- 4.47)</td>\n",
        "      <td> 66.59 (+/- 3.76)</td>\n",
        "    </tr>\n",
        "  </tbody>\n",
        "</table>\n",
        "</div>"
       ],
       "metadata": {},
       "output_type": "pyout",
       "prompt_number": 44,
       "text": [
        "                             ACC (%)           PRE (%)           REC (%)  \\\n",
        "CountVec            67.00 (+/- 4.07)  65.30 (+/- 4.80)  60.06 (+/- 6.20)   \n",
        "CountVec porter     67.66 (+/- 2.76)  66.78 (+/- 3.68)  59.16 (+/- 6.31)   \n",
        "CountVec wl         64.83 (+/- 5.30)  60.72 (+/- 5.07)  67.32 (+/- 8.33)   \n",
        "CountVec porter+wl  66.49 (+/- 4.26)  62.52 (+/- 4.70)  68.41 (+/- 7.88)   \n",
        "TfidfVec            67.75 (+/- 4.18)  76.67 (+/- 6.99)  42.63 (+/- 7.36)   \n",
        "TfidfVec porter     67.09 (+/- 4.30)  78.91 (+/- 6.08)  38.47 (+/- 9.51)   \n",
        "TfidfVec wl         64.41 (+/- 3.93)  61.30 (+/- 4.08)  61.70 (+/- 6.78)   \n",
        "TfidfVec porter+wl  66.75 (+/- 3.73)  63.76 (+/- 4.15)  64.61 (+/- 7.09)   \n",
        "\n",
        "                              F1 (%)       ROC AUC (%)  \n",
        "CountVec            62.48 (+/- 5.17)  66.48 (+/- 4.16)  \n",
        "CountVec porter     62.54 (+/- 4.27)  67.02 (+/- 2.89)  \n",
        "CountVec wl         63.63 (+/- 5.60)  65.01 (+/- 5.26)  \n",
        "CountVec porter+wl  65.09 (+/- 4.93)  66.64 (+/- 4.26)  \n",
        "TfidfVec            54.56 (+/- 7.41)  65.85 (+/- 4.39)  \n",
        "TfidfVec porter     51.13 (+/- 9.57)  64.92 (+/- 4.69)  \n",
        "TfidfVec wl         61.32 (+/- 4.52)  64.21 (+/- 3.94)  \n",
        "TfidfVec porter+wl  63.96 (+/- 4.47)  66.59 (+/- 3.76)  "
       ]
      }
     ],
     "prompt_number": 44
    },
    {
     "cell_type": "code",
     "collapsed": false,
     "input": [],
     "language": "python",
     "metadata": {},
     "outputs": []
    }
   ],
   "metadata": {}
  }
 ]
}