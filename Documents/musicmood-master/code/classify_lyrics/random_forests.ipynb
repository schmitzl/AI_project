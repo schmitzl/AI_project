{
 "metadata": {
  "name": "",
  "signature": "sha256:a710fc018979c8bb7e30b0d8c168fb88620bdbd9106ea5ba65347af7c9307178"
 },
 "nbformat": 3,
 "nbformat_minor": 0,
 "worksheets": [
  {
   "cells": [
    {
     "cell_type": "code",
     "collapsed": false,
     "input": [
      "%load_ext watermark\n",
      "%watermark -a 'Sebastian Raschka' -v"
     ],
     "language": "python",
     "metadata": {},
     "outputs": [
      {
       "output_type": "stream",
       "stream": "stdout",
       "text": [
        "Sebastian Raschka \n",
        "\n",
        "CPython 3.4.2\n",
        "IPython 2.3.0\n"
       ]
      }
     ],
     "prompt_number": 1
    },
    {
     "cell_type": "heading",
     "level": 1,
     "metadata": {},
     "source": [
      "Music Mood Classification Using Random Forests"
     ]
    },
    {
     "cell_type": "heading",
     "level": 3,
     "metadata": {},
     "source": [
      "Sections"
     ]
    },
    {
     "cell_type": "markdown",
     "metadata": {},
     "source": [
      "- [Reading the Training Dataset](#Reading-the-Training-Dataset)\n",
      "- [Text Preprocessing](#Text-Preprocessing)\n",
      "    - [Feature Extraction - Cross Validation Error](#Transform-texts-into-bag-of-words-models---Trying-different-tokenizers)\n",
      "    - [Looking at vocabulary sizes](#Looking-at-vocabulary-sizes)\n",
      "- [Model Selection](#Model-Selection)\n",
      "    - [Feature Extraction - Cross Validation Error](#Feature-Extraction---Cross-Validation-Error)\n",
      "    - [ROC Curve](#ROC-Curve)\n",
      "- [Hyperparameter Tuning](#Hyperparameter-Tuning)\n",
      "    - [Effect of the number of estimators](#Effect-of-the-number-of-estimators)\n",
      "    - [GridSearch](#GridSearch)"
     ]
    },
    {
     "cell_type": "markdown",
     "metadata": {},
     "source": [
      "<br>\n",
      "<br>"
     ]
    },
    {
     "cell_type": "heading",
     "level": 1,
     "metadata": {},
     "source": [
      "Reading the Training Dataset"
     ]
    },
    {
     "cell_type": "markdown",
     "metadata": {},
     "source": [
      "- [[back to top](#Sections)]"
     ]
    },
    {
     "cell_type": "code",
     "collapsed": false,
     "input": [
      "import pandas as pd\n",
      "\n",
      "df_train = pd.read_csv('../../dataset/training/train_lyrics_1000.csv')\n",
      "df_test = pd.read_csv('../../dataset/validation/valid_lyrics_200.csv')\n",
      "\n",
      "df_train.tail()"
     ],
     "language": "python",
     "metadata": {},
     "outputs": [
      {
       "html": [
        "<div style=\"max-height:1000px;max-width:1500px;overflow:auto;\">\n",
        "<table border=\"1\" class=\"dataframe\">\n",
        "  <thead>\n",
        "    <tr style=\"text-align: right;\">\n",
        "      <th></th>\n",
        "      <th>file</th>\n",
        "      <th>artist</th>\n",
        "      <th>title</th>\n",
        "      <th>lyrics</th>\n",
        "      <th>mood</th>\n",
        "      <th>year</th>\n",
        "    </tr>\n",
        "  </thead>\n",
        "  <tbody>\n",
        "    <tr>\n",
        "      <th>995</th>\n",
        "      <td> TRBIGRY128F42597B3.h5</td>\n",
        "      <td>                Sade</td>\n",
        "      <td>          All About Our Love</td>\n",
        "      <td> Its all about our love\\nSo shall it be forever...</td>\n",
        "      <td>   sad</td>\n",
        "      <td> 2000</td>\n",
        "    </tr>\n",
        "    <tr>\n",
        "      <th>996</th>\n",
        "      <td> TRBIIEU128F9307C88.h5</td>\n",
        "      <td>     New Found Glory</td>\n",
        "      <td> Don't Let Her Pull You Down</td>\n",
        "      <td> It's time that I rain on your parade\\nWatch as...</td>\n",
        "      <td> happy</td>\n",
        "      <td> 2009</td>\n",
        "    </tr>\n",
        "    <tr>\n",
        "      <th>997</th>\n",
        "      <td> TRBIIJY12903CE4755.h5</td>\n",
        "      <td>      Mindy McCready</td>\n",
        "      <td>         Ten Thousand Angels</td>\n",
        "      <td> Speakin of the devil\\nLook who just walked in\\...</td>\n",
        "      <td> happy</td>\n",
        "      <td> 1996</td>\n",
        "    </tr>\n",
        "    <tr>\n",
        "      <th>998</th>\n",
        "      <td> TRBIIOT128F423C594.h5</td>\n",
        "      <td>        Joy Division</td>\n",
        "      <td>              Leaders Of Men</td>\n",
        "      <td> Born from some mother's womb\\nJust like any ot...</td>\n",
        "      <td>   sad</td>\n",
        "      <td> 1978</td>\n",
        "    </tr>\n",
        "    <tr>\n",
        "      <th>999</th>\n",
        "      <td> TRBIJYB128F14AE326.h5</td>\n",
        "      <td> Seventh Day Slumber</td>\n",
        "      <td>              Shattered Life</td>\n",
        "      <td> This wanting more from me is tearing me, it's ...</td>\n",
        "      <td>   sad</td>\n",
        "      <td> 2005</td>\n",
        "    </tr>\n",
        "  </tbody>\n",
        "</table>\n",
        "</div>"
       ],
       "metadata": {},
       "output_type": "pyout",
       "prompt_number": 13,
       "text": [
        "                      file               artist                        title  \\\n",
        "995  TRBIGRY128F42597B3.h5                 Sade           All About Our Love   \n",
        "996  TRBIIEU128F9307C88.h5      New Found Glory  Don't Let Her Pull You Down   \n",
        "997  TRBIIJY12903CE4755.h5       Mindy McCready          Ten Thousand Angels   \n",
        "998  TRBIIOT128F423C594.h5         Joy Division               Leaders Of Men   \n",
        "999  TRBIJYB128F14AE326.h5  Seventh Day Slumber               Shattered Life   \n",
        "\n",
        "                                                lyrics   mood  year  \n",
        "995  Its all about our love\\nSo shall it be forever...    sad  2000  \n",
        "996  It's time that I rain on your parade\\nWatch as...  happy  2009  \n",
        "997  Speakin of the devil\\nLook who just walked in\\...  happy  1996  \n",
        "998  Born from some mother's womb\\nJust like any ot...    sad  1978  \n",
        "999  This wanting more from me is tearing me, it's ...    sad  2005  "
       ]
      }
     ],
     "prompt_number": 13
    },
    {
     "cell_type": "code",
     "collapsed": false,
     "input": [
      "X_train = df_train['lyrics']\n",
      "y_train = df_train['mood']\n",
      "\n",
      "X_test = df_test['lyrics']\n",
      "y_test = df_test['mood']"
     ],
     "language": "python",
     "metadata": {},
     "outputs": [],
     "prompt_number": 14
    },
    {
     "cell_type": "code",
     "collapsed": false,
     "input": [
      "# Label encoder\n",
      "\n",
      "import pickle\n",
      "import numpy as np\n",
      "\n",
      "pickle_in = open('./label_encoder.p', 'rb')\n",
      "le = pickle.load(pickle_in)\n",
      "pickle_in.close()\n",
      "\n",
      "print('before: %s ...' %y_train[:5])\n",
      "\n",
      "y_train = le.transform(y_train)\n",
      "y_test = le.transform(y_test)\n",
      "\n",
      "print('after: %s ...' %y_train[:5])"
     ],
     "language": "python",
     "metadata": {},
     "outputs": [
      {
       "output_type": "stream",
       "stream": "stdout",
       "text": [
        "before: 0      sad\n",
        "1    happy\n",
        "2      sad\n",
        "3    happy\n",
        "4      sad\n",
        "Name: mood, dtype: object ...\n",
        "after: [1 0 1 0 1] ..."
       ]
      },
      {
       "output_type": "stream",
       "stream": "stdout",
       "text": [
        "\n"
       ]
      }
     ],
     "prompt_number": 15
    },
    {
     "cell_type": "markdown",
     "metadata": {},
     "source": [
      "<br>\n",
      "<br>"
     ]
    },
    {
     "cell_type": "markdown",
     "metadata": {},
     "source": [
      "<br>\n",
      "<br>"
     ]
    },
    {
     "cell_type": "heading",
     "level": 1,
     "metadata": {},
     "source": [
      "Text Preprocessing"
     ]
    },
    {
     "cell_type": "markdown",
     "metadata": {},
     "source": [
      "- [[back to top](#Sections)]"
     ]
    },
    {
     "cell_type": "code",
     "collapsed": false,
     "input": [
      "import pickle\n",
      "stop_words = pickle.load(open('./stopwords.p', 'rb'))\n",
      "semantic_words = pickle.load(open('./whitelist_dicts/semantic_words_py34.p', 'rb'))"
     ],
     "language": "python",
     "metadata": {},
     "outputs": [],
     "prompt_number": 5
    },
    {
     "cell_type": "markdown",
     "metadata": {},
     "source": [
      "<br>\n",
      "<br>"
     ]
    },
    {
     "cell_type": "heading",
     "level": 3,
     "metadata": {},
     "source": [
      "Transform texts into bag of words models - Trying different tokenizers"
     ]
    },
    {
     "cell_type": "markdown",
     "metadata": {},
     "source": [
      "- [[back to top](#Sections)]"
     ]
    },
    {
     "cell_type": "code",
     "collapsed": false,
     "input": [
      "from nltk.stem.porter import PorterStemmer\n",
      "from nltk.stem.snowball import EnglishStemmer\n",
      "\n",
      "porter = PorterStemmer()\n",
      "snowball = EnglishStemmer()\n",
      "\n",
      "# raw words\n",
      "tokenizer = lambda text: text.split()\n",
      "\n",
      "# words after Porter stemming \n",
      "tokenizer_porter = lambda text: [porter.stem(word) for word in text.split()]\n",
      "\n",
      "# Words after Snowball stemming\n",
      "tokenizer_snowball = lambda text: [snowball.stem(word) for word in text.split()]\n",
      "\n",
      "# Only words that are in a list of 'positive' or 'negative' words ('whitelist')\n",
      "# http://www.cs.uic.edu/~liub/FBS/sentiment-analysis.html#lexicon\n",
      "tokenizer_whitelist = lambda text: [word for word in text.split() if word in semantic_words]\n",
      "\n",
      "# Porter-stemmed words in whitelist\n",
      "tokenizer_porter_wl = lambda text: [porter.stem(word) for word in text.split() if word in semantic_words]\n",
      "\n",
      "# Snowball-stemmed words in whitelist\n",
      "tokenizer_snowball_wl = lambda text: [snowball.stem(word) for word in text.split() if word in semantic_words]"
     ],
     "language": "python",
     "metadata": {},
     "outputs": [],
     "prompt_number": 6
    },
    {
     "cell_type": "markdown",
     "metadata": {},
     "source": [
      "<br>\n",
      "<br>"
     ]
    },
    {
     "cell_type": "heading",
     "level": 3,
     "metadata": {},
     "source": [
      "Looking at vocabulary sizes"
     ]
    },
    {
     "cell_type": "markdown",
     "metadata": {},
     "source": [
      "- [[back to top](#Sections)]"
     ]
    },
    {
     "cell_type": "code",
     "collapsed": false,
     "input": [
      "import re\n",
      "from sklearn.feature_extraction.text import CountVectorizer\n",
      "from sklearn.feature_extraction.text import TfidfVectorizer\n",
      "from sklearn.pipeline import Pipeline\n",
      "from sklearn.ensemble import RandomForestClassifier\n",
      "from mlxtend.sklearn import DenseTransformer\n",
      "\n",
      "vect_1 = CountVectorizer(binary=False,\n",
      "                         stop_words=stop_words,\n",
      "                         ngram_range=(1,1),\n",
      "                         preprocessor=lambda text: re.sub('[^a-zA-Z]', ' ', text.lower()),\n",
      "                         tokenizer=tokenizer)\n",
      "\n",
      "vect_2 = CountVectorizer(binary=False,\n",
      "                         stop_words=stop_words,\n",
      "                         ngram_range=(1,1),\n",
      "                         preprocessor=lambda text: re.sub('[^a-zA-Z]', ' ', text.lower()),\n",
      "                         tokenizer=tokenizer_porter)\n",
      "    \n",
      "vect_3 = CountVectorizer(binary=False,\n",
      "                         stop_words=stop_words,\n",
      "                         ngram_range=(1,1),\n",
      "                         preprocessor=lambda text: re.sub('[^a-zA-Z]', ' ', text.lower()),\n",
      "                         tokenizer=tokenizer_snowball)  \n",
      "\n",
      "vect_4 = CountVectorizer(binary=False,\n",
      "                         stop_words=stop_words,\n",
      "                         ngram_range=(1,1),\n",
      "                         preprocessor=lambda text: re.sub('[^a-zA-Z]', ' ', text.lower()),\n",
      "                         tokenizer=tokenizer_whitelist)  \n",
      "\n",
      "vect_5 = CountVectorizer(binary=False,\n",
      "                         stop_words=stop_words,\n",
      "                         ngram_range=(1,1),\n",
      "                         preprocessor=lambda text: re.sub('[^a-zA-Z]', ' ', text.lower()),\n",
      "                         tokenizer=tokenizer_porter_wl)\n",
      "\n",
      "vect_6 = CountVectorizer(binary=False,\n",
      "                         stop_words=stop_words,\n",
      "                         ngram_range=(1,1),\n",
      "                         preprocessor=lambda text: re.sub('[^a-zA-Z]', ' ', text.lower()),\n",
      "                         tokenizer=tokenizer_snowball_wl)\n",
      "\n",
      "vect_7 = TfidfVectorizer(binary=False,\n",
      "                         stop_words=stop_words,\n",
      "                         ngram_range=(1,1),\n",
      "                         preprocessor=lambda text: re.sub('[^a-zA-Z]', ' ', text.lower()),\n",
      "                         tokenizer=tokenizer)\n",
      "\n",
      "vect_8 = TfidfVectorizer(binary=False,\n",
      "                         stop_words=stop_words,\n",
      "                         ngram_range=(1,1),\n",
      "                         preprocessor=lambda text: re.sub('[^a-zA-Z]', ' ', text.lower()),\n",
      "                         tokenizer=tokenizer_porter)\n",
      "    \n",
      "vect_9 = TfidfVectorizer(binary=False,\n",
      "                         stop_words=stop_words,\n",
      "                         ngram_range=(1,1),\n",
      "                         preprocessor=lambda text: re.sub('[^a-zA-Z]', ' ', text.lower()),\n",
      "                         tokenizer=tokenizer_snowball)\n",
      "\n",
      "vect_10 = TfidfVectorizer(binary=False,\n",
      "                         stop_words=stop_words,\n",
      "                         ngram_range=(1,1),\n",
      "                         preprocessor=lambda text: re.sub('[^a-zA-Z]', ' ', text.lower()),\n",
      "                         tokenizer=tokenizer_whitelist)    \n",
      "\n",
      "vect_11 = TfidfVectorizer(binary=False,\n",
      "                         stop_words=stop_words,\n",
      "                         ngram_range=(1,1),\n",
      "                         preprocessor=lambda text: re.sub('[^a-zA-Z]', ' ', text.lower()),\n",
      "                         tokenizer=tokenizer_porter_wl)\n",
      "\n",
      "vect_12 = TfidfVectorizer(binary=False,\n",
      "                         stop_words=stop_words,\n",
      "                         ngram_range=(1,1),\n",
      "                         preprocessor=lambda text: re.sub('[^a-zA-Z]', ' ', text.lower()),\n",
      "                         tokenizer=tokenizer_snowball_wl)\n",
      "\n",
      "\n",
      "pipelines = []\n",
      "vectorizers = [vect_1, vect_2, vect_3, vect_4, vect_5, vect_6, vect_7, vect_8, vect_9, vect_10, vect_11, vect_12]\n",
      "for v in vectorizers:\n",
      "    pipelines.append(Pipeline([('vect', v),\n",
      "                               ('dense', DenseTransformer()),\n",
      "                               ('clf', RandomForestClassifier(n_estimators=100))]))"
     ],
     "language": "python",
     "metadata": {},
     "outputs": [],
     "prompt_number": 7
    },
    {
     "cell_type": "code",
     "collapsed": false,
     "input": [
      "# done before max_features was set\n",
      "\n",
      "print('Vocabulary sizes\\n')\n",
      "labels = ['CountVec', 'CountVec porter', 'CountVec snowball', 'CountVec wl', 'CountVec porter+wl','CountVec snowball+wl',\n",
      "          'TfidfVec', 'TfidfVec porter', 'TfidfVec snowball', 'TfidfVec wl', 'TfidfVec porter+wl','TfidfVec snowball+wl',]\n",
      "\n",
      "for label, v in zip(labels, vectorizers):\n",
      "    v.fit(X_train)\n",
      "    print('%s: %s' % (label, len(v.vocabulary_)))"
     ],
     "language": "python",
     "metadata": {},
     "outputs": [
      {
       "output_type": "stream",
       "stream": "stdout",
       "text": [
        "Vocabulary sizes\n",
        "\n",
        "CountVec: 11378"
       ]
      },
      {
       "output_type": "stream",
       "stream": "stdout",
       "text": [
        "\n",
        "CountVec porter: 8551"
       ]
      },
      {
       "output_type": "stream",
       "stream": "stdout",
       "text": [
        "\n",
        "CountVec snowball: 8528"
       ]
      },
      {
       "output_type": "stream",
       "stream": "stdout",
       "text": [
        "\n",
        "CountVec wl: 1666"
       ]
      },
      {
       "output_type": "stream",
       "stream": "stdout",
       "text": [
        "\n",
        "CountVec porter+wl: 1349"
       ]
      },
      {
       "output_type": "stream",
       "stream": "stdout",
       "text": [
        "\n",
        "CountVec snowball+wl: 1332"
       ]
      },
      {
       "output_type": "stream",
       "stream": "stdout",
       "text": [
        "\n",
        "TfidfVec: 11378"
       ]
      },
      {
       "output_type": "stream",
       "stream": "stdout",
       "text": [
        "\n",
        "TfidfVec porter: 8551"
       ]
      },
      {
       "output_type": "stream",
       "stream": "stdout",
       "text": [
        "\n",
        "TfidfVec snowball: 8528"
       ]
      },
      {
       "output_type": "stream",
       "stream": "stdout",
       "text": [
        "\n",
        "TfidfVec wl: 1666"
       ]
      },
      {
       "output_type": "stream",
       "stream": "stdout",
       "text": [
        "\n",
        "TfidfVec porter+wl: 1349"
       ]
      },
      {
       "output_type": "stream",
       "stream": "stdout",
       "text": [
        "\n",
        "TfidfVec snowball+wl: 1332"
       ]
      },
      {
       "output_type": "stream",
       "stream": "stdout",
       "text": [
        "\n"
       ]
      }
     ],
     "prompt_number": 17
    },
    {
     "cell_type": "markdown",
     "metadata": {},
     "source": [
      "<br>\n",
      "<br>"
     ]
    },
    {
     "cell_type": "heading",
     "level": 1,
     "metadata": {},
     "source": [
      "Model Selection"
     ]
    },
    {
     "cell_type": "markdown",
     "metadata": {},
     "source": [
      "- [[back to top](#Sections)]"
     ]
    },
    {
     "cell_type": "heading",
     "level": 3,
     "metadata": {},
     "source": [
      "Feature Extraction - Cross Validation Error"
     ]
    },
    {
     "cell_type": "markdown",
     "metadata": {},
     "source": [
      "- [[back to top](#Sections)]"
     ]
    },
    {
     "cell_type": "code",
     "collapsed": false,
     "input": [
      "from sklearn import metrics\n",
      "from sklearn import cross_validation\n",
      "\n",
      "labels = ['CountVec', 'CountVec porter', 'CountVec snowball', 'CountVec wl', 'CountVec porter+wl','CountVec snowball+wl',\n",
      "          'TfidfVec', 'TfidfVec porter', 'TfidfVec snowball', 'TfidfVec wl', 'TfidfVec porter+wl','TfidfVec snowball+wl',]\n",
      "\n",
      "\n",
      "\n",
      "d = {'Data':labels,\n",
      "     'ROC AUC (%)':[],}\n",
      "\n",
      "for i,clf in enumerate(pipelines):\n",
      "    scores = cross_validation.cross_val_score(estimator=clf, X=X_train, y=y_train, scoring='roc_auc', cv=10)\n",
      "    print('clf %s, %s: %s' % (i+1, labels[i], scores.mean()*100))\n",
      "    d['ROC AUC (%)'].append('%0.2f (+/- %0.2f)' % (scores.mean()*100, scores.std()*100))"
     ],
     "language": "python",
     "metadata": {},
     "outputs": [
      {
       "output_type": "stream",
       "stream": "stdout",
       "text": [
        "clf 1, CountVec: 72.4267184835\n",
        "clf 2, CountVec porter: 72.5908238226"
       ]
      },
      {
       "output_type": "stream",
       "stream": "stdout",
       "text": [
        "\n",
        "clf 3, CountVec snowball: 74.2652990948"
       ]
      },
      {
       "output_type": "stream",
       "stream": "stdout",
       "text": [
        "\n",
        "clf 4, CountVec wl: 68.4214056146"
       ]
      },
      {
       "output_type": "stream",
       "stream": "stdout",
       "text": [
        "\n",
        "clf 5, CountVec porter+wl: 68.7880362062"
       ]
      },
      {
       "output_type": "stream",
       "stream": "stdout",
       "text": [
        "\n",
        "clf 6, CountVec snowball+wl: 69.3732388823"
       ]
      },
      {
       "output_type": "stream",
       "stream": "stdout",
       "text": [
        "\n",
        "clf 7, TfidfVec: 70.9020529975"
       ]
      },
      {
       "output_type": "stream",
       "stream": "stdout",
       "text": [
        "\n",
        "clf 8, TfidfVec porter: 73.5260330579"
       ]
      },
      {
       "output_type": "stream",
       "stream": "stdout",
       "text": [
        "\n",
        "clf 9, TfidfVec snowball: 72.5986685032"
       ]
      },
      {
       "output_type": "stream",
       "stream": "stdout",
       "text": [
        "\n",
        "clf 10, TfidfVec wl: 66.7347697757"
       ]
      },
      {
       "output_type": "stream",
       "stream": "stdout",
       "text": [
        "\n",
        "clf 11, TfidfVec porter+wl: 69.1317821068"
       ]
      },
      {
       "output_type": "stream",
       "stream": "stdout",
       "text": [
        "\n",
        "clf 12, TfidfVec snowball+wl: 68.3577298964"
       ]
      },
      {
       "output_type": "stream",
       "stream": "stdout",
       "text": [
        "\n"
       ]
      }
     ],
     "prompt_number": 19
    },
    {
     "cell_type": "code",
     "collapsed": false,
     "input": [
      "df_perform = pd.DataFrame(d)\n",
      "df_perform = df_perform['ROC AUC (%)']\n",
      "df_perform.index=(labels)\n",
      "df_perform"
     ],
     "language": "python",
     "metadata": {},
     "outputs": [
      {
       "metadata": {},
       "output_type": "pyout",
       "prompt_number": 20,
       "text": [
        "CountVec                72.43 (+/- 4.18)\n",
        "CountVec porter         72.59 (+/- 6.05)\n",
        "CountVec snowball       74.27 (+/- 5.00)\n",
        "CountVec wl             68.42 (+/- 4.92)\n",
        "CountVec porter+wl      68.79 (+/- 4.48)\n",
        "CountVec snowball+wl    69.37 (+/- 4.69)\n",
        "TfidfVec                70.90 (+/- 4.03)\n",
        "TfidfVec porter         73.53 (+/- 4.21)\n",
        "TfidfVec snowball       72.60 (+/- 4.61)\n",
        "TfidfVec wl             66.73 (+/- 5.91)\n",
        "TfidfVec porter+wl      69.13 (+/- 5.08)\n",
        "TfidfVec snowball+wl    68.36 (+/- 6.03)\n",
        "Name: ROC AUC (%), dtype: object"
       ]
      }
     ],
     "prompt_number": 20
    },
    {
     "cell_type": "code",
     "collapsed": false,
     "input": [
      "df_perform.to_csv('./random_forests_data/rand_forest_featextr_1.csv', index=False)"
     ],
     "language": "python",
     "metadata": {},
     "outputs": [],
     "prompt_number": 21
    },
    {
     "cell_type": "markdown",
     "metadata": {},
     "source": [
      "<br>\n",
      "<br>"
     ]
    },
    {
     "cell_type": "heading",
     "level": 3,
     "metadata": {},
     "source": [
      "ROC Curve"
     ]
    },
    {
     "cell_type": "markdown",
     "metadata": {},
     "source": [
      "- [[back to top](#Sections)]"
     ]
    },
    {
     "cell_type": "code",
     "collapsed": false,
     "input": [
      "%matplotlib inline"
     ],
     "language": "python",
     "metadata": {},
     "outputs": [],
     "prompt_number": 22
    },
    {
     "cell_type": "code",
     "collapsed": false,
     "input": [
      "from sklearn.metrics import roc_curve, auc\n",
      "import seaborn as sns\n",
      "import numpy as np\n",
      "import matplotlib.pyplot as plt\n",
      "from sklearn.cross_validation import KFold\n",
      "from scipy import interp\n",
      "\n",
      "sns.set()\n",
      "sns.set_style(\"whitegrid\")\n",
      "\n",
      "classifier = Pipeline([('vect',   TfidfVectorizer(binary=False,\n",
      "                                             stop_words=stop_words,\n",
      "                                             ngram_range=(1,1),\n",
      "                                             preprocessor=lambda text: re.sub('[^a-zA-Z]', ' ', text.lower()),\n",
      "                                             max_features = 5000,\n",
      "                                             tokenizer=lambda text: [porter.stem(word) for word in text.split()]\n",
      "                )),\n",
      "                ('dense', DenseTransformer()),\n",
      "                ('clf', RandomForestClassifier(n_estimators=100))])\n",
      "\n",
      "\n",
      "cv = KFold(y_train.shape[0], n_folds=10, random_state=123)\n",
      "\n",
      "mean_tpr = 0.0\n",
      "mean_fpr = np.linspace(0, 1, 100)\n",
      "all_tpr = []\n",
      "\n",
      "for i, (train, test) in enumerate(cv):\n",
      "    probas_ = classifier.fit(X_train[train], y_train[train]).predict_proba(X_train[test])\n",
      "    # Compute ROC curve and area the curve\n",
      "    fpr, tpr, thresholds = roc_curve(y_train[test], probas_[:, 1])\n",
      "    mean_tpr += interp(mean_fpr, fpr, tpr)\n",
      "    mean_tpr[0] = 0.0\n",
      "    roc_auc = auc(fpr, tpr)\n",
      "    plt.plot(fpr, tpr, lw=1, label='ROC fold %d (area = %0.2f)' % (i+1, roc_auc))\n",
      "\n",
      "plt.plot([0, 1], [0, 1], '--', color=(0.6, 0.6, 0.6), label='Random Guessing')\n",
      "\n",
      "mean_tpr /= len(cv)\n",
      "mean_tpr[-1] = 1.0\n",
      "mean_auc = auc(mean_fpr, mean_tpr)\n",
      "plt.plot(mean_fpr, mean_tpr, 'k--',\n",
      "         label='Mean ROC (area = %0.2f)' % mean_auc, lw=2)\n",
      "\n",
      "plt.xlim([-0.05, 1.05])\n",
      "plt.ylim([-0.05, 1.05])\n",
      "plt.xlabel('False Positive Rate')\n",
      "plt.ylabel('True Positive Rate')\n",
      "plt.tight_layout()\n",
      "plt.savefig('./random_forests_images/roc_tfidf_porter_1.eps', dpi=300)\n",
      "plt.legend(loc=\"lower right\")\n",
      "\n",
      "plt.show()"
     ],
     "language": "python",
     "metadata": {},
     "outputs": [
      {
       "metadata": {},
       "output_type": "display_data",
       "png": "[encoded data removed]",
       "text": [
        "<matplotlib.figure.Figure at 0x108ba5080>"
       ]
      }
     ],
     "prompt_number": 24
    },
    {
     "cell_type": "markdown",
     "metadata": {},
     "source": [
      "<br>\n",
      "<br>"
     ]
    },
    {
     "cell_type": "markdown",
     "metadata": {},
     "source": [
      "<br>\n",
      "<br>"
     ]
    },
    {
     "cell_type": "heading",
     "level": 1,
     "metadata": {},
     "source": [
      "Hyperparameter Tuning"
     ]
    },
    {
     "cell_type": "markdown",
     "metadata": {},
     "source": [
      "- [[back to top](#Sections)]"
     ]
    },
    {
     "cell_type": "code",
     "collapsed": false,
     "input": [
      "vect = TfidfVectorizer(binary=False,\n",
      "                       stop_words=stop_words,\n",
      "                       ngram_range=(1,1),\n",
      "                       preprocessor=lambda text: re.sub('[^a-zA-Z]', ' ', text.lower()),\n",
      "                       tokenizer=lambda text: [porter.stem(word) for word in text.split()])"
     ],
     "language": "python",
     "metadata": {},
     "outputs": [],
     "prompt_number": 8
    },
    {
     "cell_type": "markdown",
     "metadata": {},
     "source": [
      "<br>\n",
      "<br>"
     ]
    },
    {
     "cell_type": "heading",
     "level": 3,
     "metadata": {},
     "source": [
      "Effect of the number of estimators"
     ]
    },
    {
     "cell_type": "markdown",
     "metadata": {},
     "source": [
      "- [[back to top](#Sections)]"
     ]
    },
    {
     "cell_type": "code",
     "collapsed": false,
     "input": [
      "from sklearn.metrics import roc_curve, auc\n",
      "from sklearn import cross_validation\n",
      "\n",
      "pipe_1 = Pipeline([\n",
      "                ('vect',   vect),\n",
      "                ('dense', DenseTransformer()),\n",
      "                ('clf', RandomForestClassifier(n_estimators=50))])\n",
      "\n",
      "pipe_2 = Pipeline([\n",
      "                ('vect',   vect),\n",
      "                ('dense', DenseTransformer()),\n",
      "                ('clf', RandomForestClassifier(n_estimators=100))])\n",
      "\n",
      "pipe_3 = Pipeline([\n",
      "                ('vect',   vect),\n",
      "                ('dense', DenseTransformer()),\n",
      "                ('clf', RandomForestClassifier(n_estimators=200))])\n",
      "\n",
      "pipe_4 = Pipeline([\n",
      "                ('vect',   vect),\n",
      "                ('dense', DenseTransformer()),\n",
      "                ('clf', RandomForestClassifier(n_estimators=400))])\n",
      "\n",
      "labels = [50, 100, 200, 400]\n",
      "\n",
      "for i,clf in enumerate([pipe_1, pipe_2, pipe_3, pipe_4]):\n",
      "    scores = cross_validation.cross_val_score(estimator=clf, X=X_train, y=y_train, scoring='roc_auc', cv=10)\n",
      "    print('clf %s, %s: %0.2f (+/- %0.2f)' % (i+1, labels[i], scores.mean()*100, scores.std()*100))\n"
     ],
     "language": "python",
     "metadata": {},
     "outputs": [
      {
       "output_type": "stream",
       "stream": "stdout",
       "text": [
        "clf 1, 50: 71.31 (+/- 6.53)\n",
        "clf 2, 100: 71.62 (+/- 4.76)"
       ]
      },
      {
       "output_type": "stream",
       "stream": "stdout",
       "text": [
        "\n",
        "clf 3, 200: 72.51 (+/- 3.81)"
       ]
      },
      {
       "output_type": "stream",
       "stream": "stdout",
       "text": [
        "\n",
        "clf 4, 400: 74.77 (+/- 3.80)"
       ]
      },
      {
       "output_type": "stream",
       "stream": "stdout",
       "text": [
        "\n"
       ]
      }
     ],
     "prompt_number": 10
    },
    {
     "cell_type": "markdown",
     "metadata": {},
     "source": [
      "<br>\n",
      "<br>"
     ]
    },
    {
     "cell_type": "heading",
     "level": 3,
     "metadata": {},
     "source": [
      "GridSearch"
     ]
    },
    {
     "cell_type": "markdown",
     "metadata": {},
     "source": [
      "- [[back to top](#Sections)]"
     ]
    },
    {
     "cell_type": "code",
     "collapsed": false,
     "input": [
      "X_train_feat = vect.fit_transform(X_train, y_train)\n",
      "X_train_feat = X_train_feat.toarray()"
     ],
     "language": "python",
     "metadata": {},
     "outputs": [],
     "prompt_number": 12
    },
    {
     "cell_type": "code",
     "collapsed": false,
     "input": [
      "from sklearn.grid_search import GridSearchCV\n",
      "from sklearn.metrics import classification_report\n",
      "\n",
      "\n",
      "clf_2 = RandomForestClassifier(n_estimators=50)\n",
      "\n",
      "\n",
      "tuned_parameters = [\n",
      "  {'criterion': ['gini', 'entropy'], \n",
      "   'max_features': ['auto', 'log2', 'sqrt'],\n",
      "   'min_samples_split':[2,3], \n",
      "   'min_samples_leaf':[1,2]},\n",
      " ]\n",
      "\n",
      "\n",
      "grid_search_1 = GridSearchCV(clf_2, \n",
      "                           tuned_parameters, \n",
      "                           n_jobs=1, \n",
      "                           scoring='roc_auc',\n",
      "                           cv=10\n",
      "                )\n",
      "\n",
      "grid_search_1.fit(X_train_feat, X_train_feat)\n",
      "\n",
      "print(\"Best parameters set found on development set:\")\n",
      "print()\n",
      "print(grid_search_1.best_estimator_)\n",
      "print()\n",
      "print(\"Grid scores on development set:\")\n",
      "print()\n",
      "for params, mean_score, scores in grid_search_1.grid_scores_:\n",
      "    print(\"%0.3f (+/-%0.03f) for %r\"\n",
      "            % (mean_score, scores.std() / 2, params))\n",
      "\n"
     ],
     "language": "python",
     "metadata": {},
     "outputs": []
    },
    {
     "cell_type": "markdown",
     "metadata": {},
     "source": [
      "<br>\n",
      "<br>"
     ]
    },
    {
     "cell_type": "heading",
     "level": 1,
     "metadata": {},
     "source": [
      "Validation"
     ]
    },
    {
     "cell_type": "code",
     "collapsed": false,
     "input": [
      "# Custom scorer methods to account for positive-negative class labels\n",
      "\n",
      "from sklearn import metrics\n",
      "\n",
      "# `pos_label` for positive class, since we have sad=1, happy=0\n",
      "\n",
      "acc_scorer = metrics.make_scorer(metrics.accuracy_score, greater_is_better=True)\n",
      "pre_scorer = metrics.make_scorer(metrics.precision_score, greater_is_better=True, pos_label=0)\n",
      "rec_scorer = metrics.make_scorer(metrics.recall_score, greater_is_better=True, pos_label=0)\n",
      "f1_scorer = metrics.make_scorer(metrics.f1_score, greater_is_better=True, pos_label=0)\n",
      "auc_scorer = metrics.make_scorer(metrics.roc_auc_score, greater_is_better=True)"
     ],
     "language": "python",
     "metadata": {},
     "outputs": [],
     "prompt_number": 16
    },
    {
     "cell_type": "code",
     "collapsed": false,
     "input": [
      "labels = ['Train CountVec', 'Train CountVec porter', 'Train CountVec snowball', 'Train CountVec wl', \n",
      "          'Train CountVec porter+wl','Train CountVec snowball+wl',\n",
      "          'Train TfidfVec', 'Train TfidfVec porter', 'Train TfidfVec snowball', 'Train TfidfVec wl', \n",
      "          'Train TfidfVec porter+wl','Train TfidfVec snowball+wl',\n",
      "          'Test CountVec', 'Test CountVec porter', 'Test CountVec snowball', 'Test CountVec wl', \n",
      "          'Test CountVec porter+wl','Test CountVec snowball+wl',\n",
      "          'Test TfidfVec', 'Test TfidfVec porter', 'Test TfidfVec snowball', 'Test TfidfVec wl', \n",
      "          'Test TfidfVec porter+wl','Test TfidfVec snowball+wl',]\n",
      "\n",
      "d = {'Data':labels,\n",
      "     'ACC (%)':[],\n",
      "     'PRE (%)':[],\n",
      "     'REC (%)':[],\n",
      "     'F1 (%)':[],\n",
      "     'ROC AUC (%)':[],\n",
      "}\n",
      "\n",
      "\n",
      "for clf in pipelines:\n",
      "    clf.fit(X_train, y_train)\n",
      "\n",
      "for clf in pipelines:\n",
      "\n",
      "    d['ACC (%)'].append(acc_scorer(estimator=clf, X=X_train, y_true=y_train))\n",
      "    d['PRE (%)'].append(pre_scorer(estimator=clf, X=X_train, y_true=y_train))\n",
      "    d['REC (%)'].append(rec_scorer(estimator=clf, X=X_train, y_true=y_train))\n",
      "    d['F1 (%)'].append(f1_scorer(estimator=clf, X=X_train, y_true=y_train))\n",
      "    d['ROC AUC (%)'].append(auc_scorer(estimator=clf, X=X_train, y_true=y_train))\n",
      "\n",
      "for clf in pipelines:\n",
      "\n",
      "    d['ACC (%)'].append(acc_scorer(estimator=clf, X=X_test, y_true=y_test))\n",
      "    d['PRE (%)'].append(pre_scorer(estimator=clf, X=X_test, y_true=y_test))\n",
      "    d['REC (%)'].append(rec_scorer(estimator=clf, X=X_test, y_true=y_test))\n",
      "    d['F1 (%)'].append(f1_scorer(estimator=clf, X=X_test, y_true=y_test))\n",
      "    d['ROC AUC (%)'].append(auc_scorer(estimator=clf, X=X_test, y_true=y_test))"
     ],
     "language": "python",
     "metadata": {},
     "outputs": [],
     "prompt_number": 21
    },
    {
     "cell_type": "code",
     "collapsed": true,
     "input": [
      "pd.set_option('precision', 2)\n",
      "\n",
      "df_perform = pd.DataFrame(d)\n",
      "df_perform = df_perform[['ACC (%)', 'PRE (%)', 'REC (%)', 'F1 (%)', 'ROC AUC (%)']]\n",
      "df_perform.index=(labels)\n",
      "df_perform = df_perform*100\n",
      "df_perform = np.round(df_perform, decimals=2)\n",
      "df_perform"
     ],
     "language": "python",
     "metadata": {},
     "outputs": [
      {
       "html": [
        "<div style=\"max-height:1000px;max-width:1500px;overflow:auto;\">\n",
        "<table border=\"1\" class=\"dataframe\">\n",
        "  <thead>\n",
        "    <tr style=\"text-align: right;\">\n",
        "      <th></th>\n",
        "      <th>ACC (%)</th>\n",
        "      <th>PRE (%)</th>\n",
        "      <th>REC (%)</th>\n",
        "      <th>F1 (%)</th>\n",
        "      <th>ROC AUC (%)</th>\n",
        "    </tr>\n",
        "  </thead>\n",
        "  <tbody>\n",
        "    <tr>\n",
        "      <th>Train CountVec</th>\n",
        "      <td> 99.8</td>\n",
        "      <td>  99.8</td>\n",
        "      <td>  99.8</td>\n",
        "      <td> 99.8</td>\n",
        "      <td> 99.8</td>\n",
        "    </tr>\n",
        "    <tr>\n",
        "      <th>Train CountVec porter</th>\n",
        "      <td> 99.8</td>\n",
        "      <td>  99.8</td>\n",
        "      <td>  99.8</td>\n",
        "      <td> 99.8</td>\n",
        "      <td> 99.8</td>\n",
        "    </tr>\n",
        "    <tr>\n",
        "      <th>Train CountVec snowball</th>\n",
        "      <td> 99.8</td>\n",
        "      <td>  99.8</td>\n",
        "      <td>  99.8</td>\n",
        "      <td> 99.8</td>\n",
        "      <td> 99.8</td>\n",
        "    </tr>\n",
        "    <tr>\n",
        "      <th>Train CountVec wl</th>\n",
        "      <td> 99.5</td>\n",
        "      <td> 100.0</td>\n",
        "      <td>  98.9</td>\n",
        "      <td> 99.4</td>\n",
        "      <td> 99.4</td>\n",
        "    </tr>\n",
        "    <tr>\n",
        "      <th>Train CountVec porter+wl</th>\n",
        "      <td> 99.5</td>\n",
        "      <td>  99.8</td>\n",
        "      <td>  99.1</td>\n",
        "      <td> 99.4</td>\n",
        "      <td> 99.5</td>\n",
        "    </tr>\n",
        "    <tr>\n",
        "      <th>Train CountVec snowball+wl</th>\n",
        "      <td> 99.5</td>\n",
        "      <td>  99.8</td>\n",
        "      <td>  99.1</td>\n",
        "      <td> 99.4</td>\n",
        "      <td> 99.5</td>\n",
        "    </tr>\n",
        "    <tr>\n",
        "      <th>Train TfidfVec</th>\n",
        "      <td> 99.8</td>\n",
        "      <td>  99.5</td>\n",
        "      <td> 100.0</td>\n",
        "      <td> 99.8</td>\n",
        "      <td> 99.8</td>\n",
        "    </tr>\n",
        "    <tr>\n",
        "      <th>Train TfidfVec porter</th>\n",
        "      <td> 99.8</td>\n",
        "      <td> 100.0</td>\n",
        "      <td>  99.5</td>\n",
        "      <td> 99.8</td>\n",
        "      <td> 99.8</td>\n",
        "    </tr>\n",
        "    <tr>\n",
        "      <th>Train TfidfVec snowball</th>\n",
        "      <td> 99.8</td>\n",
        "      <td>  99.8</td>\n",
        "      <td>  99.8</td>\n",
        "      <td> 99.8</td>\n",
        "      <td> 99.8</td>\n",
        "    </tr>\n",
        "    <tr>\n",
        "      <th>Train TfidfVec wl</th>\n",
        "      <td> 99.4</td>\n",
        "      <td>  99.5</td>\n",
        "      <td>  99.1</td>\n",
        "      <td> 99.3</td>\n",
        "      <td> 99.4</td>\n",
        "    </tr>\n",
        "    <tr>\n",
        "      <th>Train TfidfVec porter+wl</th>\n",
        "      <td> 99.4</td>\n",
        "      <td>  99.5</td>\n",
        "      <td>  99.1</td>\n",
        "      <td> 99.3</td>\n",
        "      <td> 99.4</td>\n",
        "    </tr>\n",
        "    <tr>\n",
        "      <th>Train TfidfVec snowball+wl</th>\n",
        "      <td> 99.4</td>\n",
        "      <td> 100.0</td>\n",
        "      <td>  98.7</td>\n",
        "      <td> 99.3</td>\n",
        "      <td> 99.3</td>\n",
        "    </tr>\n",
        "    <tr>\n",
        "      <th>Test CountVec</th>\n",
        "      <td> 61.5</td>\n",
        "      <td>  70.6</td>\n",
        "      <td>  45.7</td>\n",
        "      <td> 55.5</td>\n",
        "      <td> 62.3</td>\n",
        "    </tr>\n",
        "    <tr>\n",
        "      <th>Test CountVec porter</th>\n",
        "      <td> 61.5</td>\n",
        "      <td>  72.6</td>\n",
        "      <td>  42.9</td>\n",
        "      <td> 53.9</td>\n",
        "      <td> 62.5</td>\n",
        "    </tr>\n",
        "    <tr>\n",
        "      <th>Test CountVec snowball</th>\n",
        "      <td> 68.0</td>\n",
        "      <td>  80.6</td>\n",
        "      <td>  51.4</td>\n",
        "      <td> 62.8</td>\n",
        "      <td> 68.9</td>\n",
        "    </tr>\n",
        "    <tr>\n",
        "      <th>Test CountVec wl</th>\n",
        "      <td> 61.0</td>\n",
        "      <td>  70.2</td>\n",
        "      <td>  44.8</td>\n",
        "      <td> 54.6</td>\n",
        "      <td> 61.9</td>\n",
        "    </tr>\n",
        "    <tr>\n",
        "      <th>Test CountVec porter+wl</th>\n",
        "      <td> 62.5</td>\n",
        "      <td>  70.3</td>\n",
        "      <td>  49.5</td>\n",
        "      <td> 58.1</td>\n",
        "      <td> 63.2</td>\n",
        "    </tr>\n",
        "    <tr>\n",
        "      <th>Test CountVec snowball+wl</th>\n",
        "      <td> 62.0</td>\n",
        "      <td>  69.3</td>\n",
        "      <td>  49.5</td>\n",
        "      <td> 57.8</td>\n",
        "      <td> 62.7</td>\n",
        "    </tr>\n",
        "    <tr>\n",
        "      <th>Test TfidfVec</th>\n",
        "      <td> 60.5</td>\n",
        "      <td>  71.0</td>\n",
        "      <td>  41.9</td>\n",
        "      <td> 52.7</td>\n",
        "      <td> 61.5</td>\n",
        "    </tr>\n",
        "    <tr>\n",
        "      <th>Test TfidfVec porter</th>\n",
        "      <td> 63.5</td>\n",
        "      <td>  77.6</td>\n",
        "      <td>  42.9</td>\n",
        "      <td> 55.2</td>\n",
        "      <td> 64.6</td>\n",
        "    </tr>\n",
        "    <tr>\n",
        "      <th>Test TfidfVec snowball</th>\n",
        "      <td> 61.5</td>\n",
        "      <td>  74.1</td>\n",
        "      <td>  41.0</td>\n",
        "      <td> 52.8</td>\n",
        "      <td> 62.6</td>\n",
        "    </tr>\n",
        "    <tr>\n",
        "      <th>Test TfidfVec wl</th>\n",
        "      <td> 56.5</td>\n",
        "      <td>  62.5</td>\n",
        "      <td>  42.9</td>\n",
        "      <td> 50.9</td>\n",
        "      <td> 57.2</td>\n",
        "    </tr>\n",
        "    <tr>\n",
        "      <th>Test TfidfVec porter+wl</th>\n",
        "      <td> 61.0</td>\n",
        "      <td>  68.5</td>\n",
        "      <td>  47.6</td>\n",
        "      <td> 56.2</td>\n",
        "      <td> 61.7</td>\n",
        "    </tr>\n",
        "    <tr>\n",
        "      <th>Test TfidfVec snowball+wl</th>\n",
        "      <td> 63.5</td>\n",
        "      <td>  69.0</td>\n",
        "      <td>  55.2</td>\n",
        "      <td> 61.4</td>\n",
        "      <td> 63.9</td>\n",
        "    </tr>\n",
        "  </tbody>\n",
        "</table>\n",
        "</div>"
       ],
       "metadata": {},
       "output_type": "pyout",
       "prompt_number": 22,
       "text": [
        "                            ACC (%)  PRE (%)  REC (%)  F1 (%)  ROC AUC (%)\n",
        "Train CountVec                 99.8     99.8     99.8    99.8         99.8\n",
        "Train CountVec porter          99.8     99.8     99.8    99.8         99.8\n",
        "Train CountVec snowball        99.8     99.8     99.8    99.8         99.8\n",
        "Train CountVec wl              99.5    100.0     98.9    99.4         99.4\n",
        "Train CountVec porter+wl       99.5     99.8     99.1    99.4         99.5\n",
        "Train CountVec snowball+wl     99.5     99.8     99.1    99.4         99.5\n",
        "Train TfidfVec                 99.8     99.5    100.0    99.8         99.8\n",
        "Train TfidfVec porter          99.8    100.0     99.5    99.8         99.8\n",
        "Train TfidfVec snowball        99.8     99.8     99.8    99.8         99.8\n",
        "Train TfidfVec wl              99.4     99.5     99.1    99.3         99.4\n",
        "Train TfidfVec porter+wl       99.4     99.5     99.1    99.3         99.4\n",
        "Train TfidfVec snowball+wl     99.4    100.0     98.7    99.3         99.3\n",
        "Test CountVec                  61.5     70.6     45.7    55.5         62.3\n",
        "Test CountVec porter           61.5     72.6     42.9    53.9         62.5\n",
        "Test CountVec snowball         68.0     80.6     51.4    62.8         68.9\n",
        "Test CountVec wl               61.0     70.2     44.8    54.6         61.9\n",
        "Test CountVec porter+wl        62.5     70.3     49.5    58.1         63.2\n",
        "Test CountVec snowball+wl      62.0     69.3     49.5    57.8         62.7\n",
        "Test TfidfVec                  60.5     71.0     41.9    52.7         61.5\n",
        "Test TfidfVec porter           63.5     77.6     42.9    55.2         64.6\n",
        "Test TfidfVec snowball         61.5     74.1     41.0    52.8         62.6\n",
        "Test TfidfVec wl               56.5     62.5     42.9    50.9         57.2\n",
        "Test TfidfVec porter+wl        61.0     68.5     47.6    56.2         61.7\n",
        "Test TfidfVec snowball+wl      63.5     69.0     55.2    61.4         63.9"
       ]
      }
     ],
     "prompt_number": 22
    },
    {
     "cell_type": "code",
     "collapsed": false,
     "input": [
      "df_perform.to_csv('./random_forests_data/clf_performance.csv', index_label=False, float_format='%2.2f')"
     ],
     "language": "python",
     "metadata": {},
     "outputs": [],
     "prompt_number": 23
    },
    {
     "cell_type": "code",
     "collapsed": false,
     "input": [],
     "language": "python",
     "metadata": {},
     "outputs": []
    }
   ],
   "metadata": {}
  }
 ]
}