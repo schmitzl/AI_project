{
 "metadata": {
  "name": "",
  "signature": "sha256:d50defb6dd680b4fb8287608042af67d4d6d491053e5d9513beee01108953bd6"
 },
 "nbformat": 3,
 "nbformat_minor": 0,
 "worksheets": [
  {
   "cells": [
    {
     "cell_type": "code",
     "collapsed": false,
     "input": [
      "%load_ext watermark\n",
      "%watermark -d -v -a 'Sebastian Raschka' -p scikit-learn,numpy"
     ],
     "language": "python",
     "metadata": {},
     "outputs": [
      {
       "output_type": "stream",
       "stream": "stdout",
       "text": [
        "Sebastian Raschka 06/12/2014 \n",
        "\n",
        "CPython 3.4.2\n",
        "IPython 2.3.1\n",
        "\n",
        "scikit-learn 0.15.2\n",
        "numpy 1.9.1\n"
       ]
      }
     ],
     "prompt_number": 3
    },
    {
     "cell_type": "heading",
     "level": 1,
     "metadata": {},
     "source": [
      "Initialize"
     ]
    },
    {
     "cell_type": "heading",
     "level": 3,
     "metadata": {},
     "source": [
      "Initialize number of mood labels"
     ]
    },
    {
     "cell_type": "code",
     "collapsed": false,
     "input": [
      "import pickle\n",
      "\n",
      "num_moodlab = 1200\n",
      "pickle.dump(num_moodlab, open('num_moodlab.p','wb'))"
     ],
     "language": "python",
     "metadata": {},
     "outputs": [],
     "prompt_number": 1
    },
    {
     "cell_type": "heading",
     "level": 3,
     "metadata": {},
     "source": [
      "Initialize and pickle pandas data frame"
     ]
    },
    {
     "cell_type": "code",
     "collapsed": false,
     "input": [
      "import pandas as pd\n",
      "import re\n",
      "\n",
      "df = pd.read_pickle('all_data.p')\n",
      "df = df[['artist', 'title', 'lyrics', 'mood']]\n",
      "df.index = range(1200)\n",
      "df.tail()"
     ],
     "language": "python",
     "metadata": {},
     "outputs": [
      {
       "html": [
        "<div style=\"max-height:1000px;max-width:1500px;overflow:auto;\">\n",
        "<table border=\"1\" class=\"dataframe\">\n",
        "  <thead>\n",
        "    <tr style=\"text-align: right;\">\n",
        "      <th></th>\n",
        "      <th>artist</th>\n",
        "      <th>title</th>\n",
        "      <th>lyrics</th>\n",
        "      <th>mood</th>\n",
        "    </tr>\n",
        "  </thead>\n",
        "  <tbody>\n",
        "    <tr>\n",
        "      <th>1195</th>\n",
        "      <td>         prince</td>\n",
        "      <td>             escape</td>\n",
        "      <td> {B-side of Glam Slam}\\nSnare drum pounds on th...</td>\n",
        "      <td> happy</td>\n",
        "    </tr>\n",
        "    <tr>\n",
        "      <th>1196</th>\n",
        "      <td>           cavo</td>\n",
        "      <td>         over again</td>\n",
        "      <td> Well I will rise\\nThe morning comes\\nNothing e...</td>\n",
        "      <td>   sad</td>\n",
        "    </tr>\n",
        "    <tr>\n",
        "      <th>1197</th>\n",
        "      <td>            afi</td>\n",
        "      <td>     summer shudder</td>\n",
        "      <td> Listen when I say, when I say it's real\\nReal ...</td>\n",
        "      <td> happy</td>\n",
        "    </tr>\n",
        "    <tr>\n",
        "      <th>1198</th>\n",
        "      <td>      vitamin c</td>\n",
        "      <td> girls against boys</td>\n",
        "      <td> Imagine a world where the girls, girls rule th...</td>\n",
        "      <td> happy</td>\n",
        "    </tr>\n",
        "    <tr>\n",
        "      <th>1199</th>\n",
        "      <td> richard burton</td>\n",
        "      <td>            camelot</td>\n",
        "      <td> Each evening, from December to December\\nBefor...</td>\n",
        "      <td> happy</td>\n",
        "    </tr>\n",
        "  </tbody>\n",
        "</table>\n",
        "</div>"
       ],
       "metadata": {},
       "output_type": "pyout",
       "prompt_number": 2,
       "text": [
        "              artist               title  \\\n",
        "1195          prince              escape   \n",
        "1196            cavo          over again   \n",
        "1197             afi      summer shudder   \n",
        "1198       vitamin c  girls against boys   \n",
        "1199  richard burton             camelot   \n",
        "\n",
        "                                                 lyrics   mood  \n",
        "1195  {B-side of Glam Slam}\\nSnare drum pounds on th...  happy  \n",
        "1196  Well I will rise\\nThe morning comes\\nNothing e...    sad  \n",
        "1197  Listen when I say, when I say it's real\\nReal ...  happy  \n",
        "1198  Imagine a world where the girls, girls rule th...  happy  \n",
        "1199  Each evening, from December to December\\nBefor...  happy  "
       ]
      }
     ],
     "prompt_number": 2
    },
    {
     "cell_type": "code",
     "collapsed": false,
     "input": [
      "df['mood'] = df['mood'].astype(object)\n",
      "for i in df.index:\n",
      "    #df.ix[i]['mood'] = [df.ix[i]['mood']]\n",
      "    df.ix[i]['lyrics'] = unicode(df.ix[i]['lyrics'], errors='ignore')\n",
      "    df.ix[i]['artist'] = unicode(df.ix[i]['artist'].lower(), errors='ignore')\n",
      "    df.ix[i]['title'] = re.sub(r'\\([^)]*\\)', '', df.ix[i]['title']).strip()\n",
      "    df.ix[i]['title'] = unicode(df.ix[i]['title'].lower(), errors='ignore')"
     ],
     "language": "python",
     "metadata": {},
     "outputs": [],
     "prompt_number": 4
    },
    {
     "cell_type": "code",
     "collapsed": false,
     "input": [
      "df.tail()"
     ],
     "language": "python",
     "metadata": {},
     "outputs": [
      {
       "html": [
        "<div style=\"max-height:1000px;max-width:1500px;overflow:auto;\">\n",
        "<table border=\"1\" class=\"dataframe\">\n",
        "  <thead>\n",
        "    <tr style=\"text-align: right;\">\n",
        "      <th></th>\n",
        "      <th>artist</th>\n",
        "      <th>title</th>\n",
        "      <th>lyrics</th>\n",
        "      <th>mood</th>\n",
        "    </tr>\n",
        "  </thead>\n",
        "  <tbody>\n",
        "    <tr>\n",
        "      <th>1195</th>\n",
        "      <td>         prince</td>\n",
        "      <td>             escape</td>\n",
        "      <td> {B-side of Glam Slam}\\nSnare drum pounds on th...</td>\n",
        "      <td> happy</td>\n",
        "    </tr>\n",
        "    <tr>\n",
        "      <th>1196</th>\n",
        "      <td>           cavo</td>\n",
        "      <td>         over again</td>\n",
        "      <td> Well I will rise\\nThe morning comes\\nNothing e...</td>\n",
        "      <td>   sad</td>\n",
        "    </tr>\n",
        "    <tr>\n",
        "      <th>1197</th>\n",
        "      <td>            afi</td>\n",
        "      <td>     summer shudder</td>\n",
        "      <td> Listen when I say, when I say it's real\\nReal ...</td>\n",
        "      <td> happy</td>\n",
        "    </tr>\n",
        "    <tr>\n",
        "      <th>1198</th>\n",
        "      <td>      vitamin c</td>\n",
        "      <td> girls against boys</td>\n",
        "      <td> Imagine a world where the girls, girls rule th...</td>\n",
        "      <td> happy</td>\n",
        "    </tr>\n",
        "    <tr>\n",
        "      <th>1199</th>\n",
        "      <td> richard burton</td>\n",
        "      <td>            camelot</td>\n",
        "      <td> Each evening, from December to December\\nBefor...</td>\n",
        "      <td> happy</td>\n",
        "    </tr>\n",
        "  </tbody>\n",
        "</table>\n",
        "</div>"
       ],
       "metadata": {},
       "output_type": "pyout",
       "prompt_number": 5,
       "text": [
        "              artist               title  \\\n",
        "1195          prince              escape   \n",
        "1196            cavo          over again   \n",
        "1197             afi      summer shudder   \n",
        "1198       vitamin c  girls against boys   \n",
        "1199  richard burton             camelot   \n",
        "\n",
        "                                                 lyrics   mood  \n",
        "1195  {B-side of Glam Slam}\\nSnare drum pounds on th...  happy  \n",
        "1196  Well I will rise\\nThe morning comes\\nNothing e...    sad  \n",
        "1197  Listen when I say, when I say it's real\\nReal ...  happy  \n",
        "1198  Imagine a world where the girls, girls rule th...  happy  \n",
        "1199  Each evening, from December to December\\nBefor...  happy  "
       ]
      }
     ],
     "prompt_number": 5
    },
    {
     "cell_type": "code",
     "collapsed": false,
     "input": [
      "pd.to_pickle(df, 'all_data.p')"
     ],
     "language": "python",
     "metadata": {},
     "outputs": [],
     "prompt_number": 7
    },
    {
     "cell_type": "heading",
     "level": 3,
     "metadata": {},
     "source": [
      "Initialize sqlite3 database"
     ]
    },
    {
     "cell_type": "code",
     "collapsed": false,
     "input": [
      "import sqlite3\n",
      "\n",
      "conn = sqlite3.connect('./all_data.sqlite')\n",
      "\n",
      "df.to_sql(name='moodtable', con=conn, flavor='sqlite', index=False)\n",
      "\n",
      "conn.close()"
     ],
     "language": "python",
     "metadata": {},
     "outputs": [],
     "prompt_number": 4
    },
    {
     "cell_type": "heading",
     "level": 3,
     "metadata": {},
     "source": [
      "Test writing to and reading from sqlite3 database"
     ]
    },
    {
     "cell_type": "code",
     "collapsed": false,
     "input": [
      "artist = u'testar'\n",
      "title = u'testit'\n",
      "lyr = u'testlys'\n",
      "mood = u'somemood'"
     ],
     "language": "python",
     "metadata": {},
     "outputs": [],
     "prompt_number": 6
    },
    {
     "cell_type": "code",
     "collapsed": false,
     "input": [
      "conn = sqlite3.connect('./all_data.sqlite')\n",
      "cursor = conn.cursor()\n",
      "\n",
      "sql = \"SELECT mood FROM moodtable WHERE artist=? AND title=?\"\n",
      "cursor.execute(sql, [(artist), (title)])\n",
      "cur =  cursor.fetchone()\n",
      "\n",
      "if cur:\n",
      "    cur = cur[0]\n",
      "    cur += u',test'\n",
      "\n",
      "    sql = \"UPDATE moodtable SET mood=? WHERE artist=? AND title=?\"\n",
      "    cursor.execute(sql, [(cur), (artist), (title)])\n",
      "\n",
      "else:\n",
      "    sql = \"INSERT INTO moodtable VALUES (?,?,?,?)\"\n",
      "    cursor.execute(sql, [(artist), (title), (lyr), (mood)])\n",
      "    \n",
      "conn.commit()\n",
      "conn.close()"
     ],
     "language": "python",
     "metadata": {},
     "outputs": [],
     "prompt_number": 7
    },
    {
     "cell_type": "heading",
     "level": 3,
     "metadata": {},
     "source": [
      "Test reading number of rows in sqlite database"
     ]
    },
    {
     "cell_type": "code",
     "collapsed": false,
     "input": [
      "import sqlite3\n",
      "\n",
      "conn = sqlite3.connect('./all_data.sqlite')\n",
      "cursor = conn.cursor()\n",
      "\n",
      "sql = \"SELECT COUNT(*) FROM moodtable\"\n",
      "cursor.execute(sql)\n",
      "result = cursor.fetchone()\n",
      "print result[0]\n",
      "\n",
      "conn.close()"
     ],
     "language": "python",
     "metadata": {},
     "outputs": [
      {
       "output_type": "stream",
       "stream": "stdout",
       "text": [
        "1200\n"
       ]
      }
     ],
     "prompt_number": 5
    },
    {
     "cell_type": "code",
     "collapsed": false,
     "input": [],
     "language": "python",
     "metadata": {},
     "outputs": []
    }
   ],
   "metadata": {}
  }
 ]
}